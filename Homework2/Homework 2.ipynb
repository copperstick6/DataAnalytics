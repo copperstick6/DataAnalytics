{
 "cells": [
  {
   "cell_type": "markdown",
   "id": "f463ff47",
   "metadata": {},
   "source": [
    "# Homework 2\n",
    "\n",
    "MBA200A: Data Analytics\n",
    "\n",
    "UC Berkeley Haas School of Business\n"
   ]
  },
  {
   "cell_type": "markdown",
   "id": "70a9ca76",
   "metadata": {},
   "source": [
    "## Question 1: Load and prep the data\n",
    "Load the diamond dataset as well as any packages you may need to run regressions or fit a Lasso model. Call the dataset \"Diamonds\". The diamond dataset can be found on bcourses and is listed as Diamond_sample.csv. Remember to omit the missing values. If you are having trouble remembering the packages you need, refer to Labs 1 and 2. "
   ]
  },
  {
   "cell_type": "code",
   "execution_count": 8,
   "id": "032e2e12",
   "metadata": {
    "scrolled": true
   },
   "outputs": [],
   "source": [
    "library(ggplot2)\n",
    "library(dplyr)\n",
    "library(glmnet)\n",
    "library(stats)\n",
    "\n",
    "dataSet<- read.csv('Diamonds_sample.csv', header = TRUE, stringsAsFactors = TRUE)"
   ]
  },
  {
   "cell_type": "markdown",
   "id": "6de732ea",
   "metadata": {},
   "source": [
    "Print the first few lines of the data so you can get a sense for the structure, also calculate the average cost of a diamond."
   ]
  },
  {
   "cell_type": "code",
   "execution_count": 9,
   "id": "6a77cce1",
   "metadata": {},
   "outputs": [
    {
     "data": {
      "text/html": [
       "<table class=\"dataframe\">\n",
       "<caption>A data.frame: 6 × 6</caption>\n",
       "<thead>\n",
       "\t<tr><th></th><th scope=col>GEM_ID</th><th scope=col>carat</th><th scope=col>clarity</th><th scope=col>high_color</th><th scope=col>cut</th><th scope=col>cost</th></tr>\n",
       "\t<tr><th></th><th scope=col>&lt;int&gt;</th><th scope=col>&lt;dbl&gt;</th><th scope=col>&lt;int&gt;</th><th scope=col>&lt;int&gt;</th><th scope=col>&lt;int&gt;</th><th scope=col>&lt;dbl&gt;</th></tr>\n",
       "</thead>\n",
       "<tbody>\n",
       "\t<tr><th scope=row>1</th><td>47129</td><td>0.2746253</td><td>1</td><td>1</td><td>1</td><td>3468.159</td></tr>\n",
       "\t<tr><th scope=row>2</th><td>26282</td><td>0.4699232</td><td>1</td><td>1</td><td>1</td><td>4814.552</td></tr>\n",
       "\t<tr><th scope=row>3</th><td>25473</td><td>0.6673995</td><td>1</td><td>1</td><td>1</td><td>6473.046</td></tr>\n",
       "\t<tr><th scope=row>4</th><td>15093</td><td>0.4628467</td><td>1</td><td>1</td><td>1</td><td>2992.616</td></tr>\n",
       "\t<tr><th scope=row>5</th><td>83048</td><td>0.5830976</td><td>1</td><td>0</td><td>1</td><td>5471.689</td></tr>\n",
       "\t<tr><th scope=row>6</th><td>22707</td><td>0.4277917</td><td>1</td><td>1</td><td>1</td><td>3999.953</td></tr>\n",
       "</tbody>\n",
       "</table>\n"
      ],
      "text/latex": [
       "A data.frame: 6 × 6\n",
       "\\begin{tabular}{r|llllll}\n",
       "  & GEM\\_ID & carat & clarity & high\\_color & cut & cost\\\\\n",
       "  & <int> & <dbl> & <int> & <int> & <int> & <dbl>\\\\\n",
       "\\hline\n",
       "\t1 & 47129 & 0.2746253 & 1 & 1 & 1 & 3468.159\\\\\n",
       "\t2 & 26282 & 0.4699232 & 1 & 1 & 1 & 4814.552\\\\\n",
       "\t3 & 25473 & 0.6673995 & 1 & 1 & 1 & 6473.046\\\\\n",
       "\t4 & 15093 & 0.4628467 & 1 & 1 & 1 & 2992.616\\\\\n",
       "\t5 & 83048 & 0.5830976 & 1 & 0 & 1 & 5471.689\\\\\n",
       "\t6 & 22707 & 0.4277917 & 1 & 1 & 1 & 3999.953\\\\\n",
       "\\end{tabular}\n"
      ],
      "text/markdown": [
       "\n",
       "A data.frame: 6 × 6\n",
       "\n",
       "| <!--/--> | GEM_ID &lt;int&gt; | carat &lt;dbl&gt; | clarity &lt;int&gt; | high_color &lt;int&gt; | cut &lt;int&gt; | cost &lt;dbl&gt; |\n",
       "|---|---|---|---|---|---|---|\n",
       "| 1 | 47129 | 0.2746253 | 1 | 1 | 1 | 3468.159 |\n",
       "| 2 | 26282 | 0.4699232 | 1 | 1 | 1 | 4814.552 |\n",
       "| 3 | 25473 | 0.6673995 | 1 | 1 | 1 | 6473.046 |\n",
       "| 4 | 15093 | 0.4628467 | 1 | 1 | 1 | 2992.616 |\n",
       "| 5 | 83048 | 0.5830976 | 1 | 0 | 1 | 5471.689 |\n",
       "| 6 | 22707 | 0.4277917 | 1 | 1 | 1 | 3999.953 |\n",
       "\n"
      ],
      "text/plain": [
       "  GEM_ID carat     clarity high_color cut cost    \n",
       "1 47129  0.2746253 1       1          1   3468.159\n",
       "2 26282  0.4699232 1       1          1   4814.552\n",
       "3 25473  0.6673995 1       1          1   6473.046\n",
       "4 15093  0.4628467 1       1          1   2992.616\n",
       "5 83048  0.5830976 1       0          1   5471.689\n",
       "6 22707  0.4277917 1       1          1   3999.953"
      ]
     },
     "metadata": {},
     "output_type": "display_data"
    },
    {
     "data": {
      "text/plain": [
       "      cost      \n",
       " Min.   :-1473  \n",
       " 1st Qu.: 2184  \n",
       " Median : 3229  \n",
       " Mean   : 3266  \n",
       " 3rd Qu.: 4295  \n",
       " Max.   : 8556  "
      ]
     },
     "metadata": {},
     "output_type": "display_data"
    },
    {
     "name": "stdout",
     "output_type": "stream",
     "text": [
      "[1] \"Average cost is 3266\"\n"
     ]
    }
   ],
   "source": [
    "head(dataSet)\n",
    "summary(dataSet[\"cost\"])\n",
    "print(\"Average cost is 3266\")"
   ]
  },
  {
   "cell_type": "markdown",
   "id": "a758d6af",
   "metadata": {},
   "source": [
    "To run Lasso, we need to prep our data properly. The package we are using, glmnet, requires that we input the data as matrices (the lm command we were using last week was doing this for us). The outcome we are interested in predicting is the price of a diamond.\n",
    "\n",
    "We won't need the GEM_ID variable for our analysis. Create a new dataset that contains all the other variables using the ``c()`` function and method we learned in lab 1. We will use this dataset going forward. \n",
    "\n",
    "Define the outcome as ``cost`` and x matrix using the ``model.matrix( )`` function."
   ]
  },
  {
   "cell_type": "code",
   "execution_count": 10,
   "id": "7d81a293",
   "metadata": {},
   "outputs": [
    {
     "data": {
      "text/html": [
       "<table class=\"dataframe\">\n",
       "<caption>A matrix: 6 × 4 of type dbl</caption>\n",
       "<thead>\n",
       "\t<tr><th></th><th scope=col>carat</th><th scope=col>clarity</th><th scope=col>high_color</th><th scope=col>cut</th></tr>\n",
       "</thead>\n",
       "<tbody>\n",
       "\t<tr><th scope=row>1</th><td>0.2746253</td><td>1</td><td>1</td><td>1</td></tr>\n",
       "\t<tr><th scope=row>2</th><td>0.4699232</td><td>1</td><td>1</td><td>1</td></tr>\n",
       "\t<tr><th scope=row>3</th><td>0.6673995</td><td>1</td><td>1</td><td>1</td></tr>\n",
       "\t<tr><th scope=row>4</th><td>0.4628467</td><td>1</td><td>1</td><td>1</td></tr>\n",
       "\t<tr><th scope=row>5</th><td>0.5830976</td><td>1</td><td>0</td><td>1</td></tr>\n",
       "\t<tr><th scope=row>6</th><td>0.4277917</td><td>1</td><td>1</td><td>1</td></tr>\n",
       "</tbody>\n",
       "</table>\n"
      ],
      "text/latex": [
       "A matrix: 6 × 4 of type dbl\n",
       "\\begin{tabular}{r|llll}\n",
       "  & carat & clarity & high\\_color & cut\\\\\n",
       "\\hline\n",
       "\t1 & 0.2746253 & 1 & 1 & 1\\\\\n",
       "\t2 & 0.4699232 & 1 & 1 & 1\\\\\n",
       "\t3 & 0.6673995 & 1 & 1 & 1\\\\\n",
       "\t4 & 0.4628467 & 1 & 1 & 1\\\\\n",
       "\t5 & 0.5830976 & 1 & 0 & 1\\\\\n",
       "\t6 & 0.4277917 & 1 & 1 & 1\\\\\n",
       "\\end{tabular}\n"
      ],
      "text/markdown": [
       "\n",
       "A matrix: 6 × 4 of type dbl\n",
       "\n",
       "| <!--/--> | carat | clarity | high_color | cut |\n",
       "|---|---|---|---|---|\n",
       "| 1 | 0.2746253 | 1 | 1 | 1 |\n",
       "| 2 | 0.4699232 | 1 | 1 | 1 |\n",
       "| 3 | 0.6673995 | 1 | 1 | 1 |\n",
       "| 4 | 0.4628467 | 1 | 1 | 1 |\n",
       "| 5 | 0.5830976 | 1 | 0 | 1 |\n",
       "| 6 | 0.4277917 | 1 | 1 | 1 |\n",
       "\n"
      ],
      "text/plain": [
       "  carat     clarity high_color cut\n",
       "1 0.2746253 1       1          1  \n",
       "2 0.4699232 1       1          1  \n",
       "3 0.6673995 1       1          1  \n",
       "4 0.4628467 1       1          1  \n",
       "5 0.5830976 1       0          1  \n",
       "6 0.4277917 1       1          1  "
      ]
     },
     "metadata": {},
     "output_type": "display_data"
    }
   ],
   "source": [
    "variables = c(\"carat\", \"clarity\", \"high_color\", \"cut\", \"cost\")\n",
    "dataSet = dataSet[variables]\n",
    "\n",
    "x = model.matrix(cost~., dataSet)[,-1]\n",
    "head(x)\n",
    "\n",
    "y = dataSet$cost"
   ]
  },
  {
   "cell_type": "markdown",
   "id": "9ead62e0",
   "metadata": {},
   "source": [
    "To evaluate the performance of our model, we need to divide the data into training and testing data. We will train the model on the training data and evaluate it on the testing data. \n",
    "\n",
    "Split the data evenly into train and test datasets. Set the seed to 555 and use the command ``sample()`` to select which observations go into the training dataset. This is the same procedure we used in Lab 2, and it's necessary in order to get results that match the official solutions. If you do not set the seed to 555 you may not end up with the exact solutions required in the bcourses quiz.\n",
    "\n",
    "**Important:**\n",
    "Set the seed equal to 555 before you run ``sample()``."
   ]
  },
  {
   "cell_type": "code",
   "execution_count": 11,
   "id": "e71cce44",
   "metadata": {},
   "outputs": [],
   "source": [
    "set.seed(555)\n",
    "\n",
    "# Assign training sample randomly\n",
    "train_row <- sample(1:nrow(x),nrow(x)/2)\n",
    "y_train <- y[train_row]\n",
    "x_train <- x[train_row,]\n",
    "\n",
    "# Assign leftover to test sample\n",
    "y_test <- y[-train_row]\n",
    "x_test <- x[-train_row,]\n"
   ]
  },
  {
   "cell_type": "markdown",
   "id": "9d9a683e",
   "metadata": {},
   "source": [
    "## Question 2: Lasso\n",
    "\n",
    "Now create a Lasso model with the data using ``glmnet()``. Remember you do not need to specify lambda, the command is going to test many values for you. Plot the Lasso model "
   ]
  },
  {
   "cell_type": "code",
   "execution_count": 12,
   "id": "003e4a5f",
   "metadata": {},
   "outputs": [
    {
     "data": {
      "image/png": "[encoded data removed]",
      "text/plain": [
       "plot without title"
      ]
     },
     "metadata": {
      "image/png": {
       "height": 420,
       "width": 420
      }
     },
     "output_type": "display_data"
    }
   ],
   "source": [
    "# Fit to full dataset with chosen lambda, examine coefficients\n",
    "lasso_train <- glmnet(x_train, y_train, alpha=1)\n",
    "\n",
    "# See coefficients by lambda\n",
    "plot(lasso_train, xvar = \"lambda\", label = TRUE)"
   ]
  },
  {
   "cell_type": "markdown",
   "id": "40024bc2",
   "metadata": {},
   "source": [
    "Select the optimal lambda for a Lasso model using cross-validation command (``cv.glmnet()``), based on the the lambda that produce the best $R^2$ (see Lab 2 if you don't remember how to define $R^2$). Use the option ``nfolds=10`` (the default). Print the optimal lambda. \n",
    "\n",
    "**Important:**\n",
    "Set the seed equal to 555 before you run ``cv.glmnet()``."
   ]
  },
  {
   "cell_type": "code",
   "execution_count": 13,
   "id": "d28b9da2",
   "metadata": {},
   "outputs": [
    {
     "data": {
      "image/png": "[encoded data removed]",
      "text/plain": [
       "plot without title"
      ]
     },
     "metadata": {
      "image/png": {
       "height": 420,
       "width": 420
      }
     },
     "output_type": "display_data"
    }
   ],
   "source": [
    "# Set seed for replication\n",
    "set.seed(555)\n",
    "\n",
    "# Function to calculate the cross-validation errors for all lambda\n",
    "cv_lasso <- cv.glmnet(x_train, y_train, alpha=1, nfolds=10)\n",
    "\n",
    "# Calculate the r-squared of the model for each lambda \n",
    "r2 <- 1 - cv_lasso$cvm/var(y_train) \n",
    "\n",
    "# Plots log(lambda) and R2\n",
    "plot(log(cv_lasso$lambda), r2, xlab=\"Log(Lambda)\", ylab=\"R-Squared\", col=\"Blue\")"
   ]
  },
  {
   "cell_type": "code",
   "execution_count": 14,
   "id": "d14a4254",
   "metadata": {},
   "outputs": [
    {
     "name": "stdout",
     "output_type": "stream",
     "text": [
      "[1] \"max R^2:\"\n"
     ]
    },
    {
     "data": {
      "text/html": [
       "0.712187795138389"
      ],
      "text/latex": [
       "0.712187795138389"
      ],
      "text/markdown": [
       "0.712187795138389"
      ],
      "text/plain": [
       "[1] 0.7121878"
      ]
     },
     "metadata": {},
     "output_type": "display_data"
    },
    {
     "name": "stdout",
     "output_type": "stream",
     "text": [
      "[1] \"Optimal Lambda\"\n"
     ]
    },
    {
     "data": {
      "text/html": [
       "5.36922980986337"
      ],
      "text/latex": [
       "5.36922980986337"
      ],
      "text/markdown": [
       "5.36922980986337"
      ],
      "text/plain": [
       "[1] 5.36923"
      ]
     },
     "metadata": {},
     "output_type": "display_data"
    }
   ],
   "source": [
    "print(\"max R^2:\")\n",
    "max(r2)\n",
    "best_lambda <- cv_lasso$lambda[which(r2==max(r2))] \n",
    "print(\"Optimal Lambda\")\n",
    "best_lambda"
   ]
  },
  {
   "cell_type": "markdown",
   "id": "208eaa79",
   "metadata": {},
   "source": [
    "Show the coefficients of the Lasso model with the optimal lambda. (Hint: use the ``coef()`` command with the options ``s = best_lambda, exact = TRUE, x=x_train, y=y_train``, where ``best_lambda`` is a variable that stores the optimal lamda, ``x_train`` is the matrix of covariates used to estimate the model, ``y_train`` is the vector of outcome variable used in the estimation. If you use different names that's OK!)"
   ]
  },
  {
   "cell_type": "code",
   "execution_count": 15,
   "id": "dd570d37",
   "metadata": {},
   "outputs": [
    {
     "data": {
      "text/plain": [
       "5 x 1 sparse Matrix of class \"dgCMatrix\"\n",
       "                   s1\n",
       "(Intercept) -896.4651\n",
       "carat       7134.7953\n",
       "clarity      526.5371\n",
       "high_color  1267.6640\n",
       "cut          381.7431"
      ]
     },
     "metadata": {},
     "output_type": "display_data"
    }
   ],
   "source": [
    "lasso_coef <- predict(lasso_train, type=\"coefficients\", s=best_lambda, exact = TRUE, x=x_train, y=y_train)\n",
    "lasso_coef"
   ]
  },
  {
   "cell_type": "markdown",
   "id": "564233fb",
   "metadata": {},
   "source": [
    "Calculate the Lasso in-sample prediction performance indicator $R^2$ using the optimal lambda. To do this, you have to generate a prediction of the outcome variable using the Lasso model and the training dataset."
   ]
  },
  {
   "cell_type": "code",
   "execution_count": 16,
   "id": "99bb1352",
   "metadata": {},
   "outputs": [
    {
     "name": "stdout",
     "output_type": "stream",
     "text": [
      "[1] \"In-sample R-squared\"\n"
     ]
    },
    {
     "data": {
      "text/html": [
       "0.729697942718236"
      ],
      "text/latex": [
       "0.729697942718236"
      ],
      "text/markdown": [
       "0.729697942718236"
      ],
      "text/plain": [
       "[1] 0.7296979"
      ]
     },
     "metadata": {},
     "output_type": "display_data"
    }
   ],
   "source": [
    "lasso_predict_in <- predict(lasso_train, s=best_lambda, newx = x_train)\n",
    "# Calculate r-square for lasso\n",
    "print('In-sample R-squared')\n",
    "1-mean((lasso_predict_in-y_train)^2)/var(y_train) "
   ]
  },
  {
   "cell_type": "markdown",
   "id": "70d1ca92",
   "metadata": {},
   "source": [
    "Calculate the Lasso out-of-sample prediction performance indicator $R^2$. To do this, you have to generate a prediction of the outcome variable using the Lasso model and the test dataset."
   ]
  },
  {
   "cell_type": "code",
   "execution_count": 17,
   "id": "833f9d8d",
   "metadata": {},
   "outputs": [
    {
     "name": "stdout",
     "output_type": "stream",
     "text": [
      "[1] \"Out-of-sample R-squared\"\n"
     ]
    },
    {
     "data": {
      "text/html": [
       "0.704350317611491"
      ],
      "text/latex": [
       "0.704350317611491"
      ],
      "text/markdown": [
       "0.704350317611491"
      ],
      "text/plain": [
       "[1] 0.7043503"
      ]
     },
     "metadata": {},
     "output_type": "display_data"
    }
   ],
   "source": [
    "lasso_predict_out <- predict(lasso_train, s=best_lambda, newx = x_test)\n",
    "print('Out-of-sample R-squared')\n",
    "1-mean((lasso_predict_out-y_test)^2)/var(y_test) "
   ]
  },
  {
   "cell_type": "markdown",
   "id": "699e5033",
   "metadata": {},
   "source": [
    "## Question 3: OLS \n",
    "Recall from lecture that Lasso models belong to the family of linear models. Ordinary Least Squares (OLS), which we worked with last week is another type of linear model. OLS is the best linear unbiased estimator (BLUE), the coefficients we get from running OLS is an unbiased estimate of the true linear relationship. Lasso differ from OLS by introducing bias into the estimates but reducing variance in the estimates to overall offer better prediction accuracy.  \n",
    "\n",
    "Estimate an OLS regression on the training dataset (same predictors and outcome). You can do this in the same way you estimated the Lasso model, but this time setting lambda to 0 (``lambda=0``) instead of the optimal lambda. "
   ]
  },
  {
   "cell_type": "code",
   "execution_count": 22,
   "id": "fe14711c",
   "metadata": {},
   "outputs": [
    {
     "data": {
      "text/plain": [
       "5 x 1 sparse Matrix of class \"dgCMatrix\"\n",
       "                   s1\n",
       "(Intercept) -926.5577\n",
       "carat       7172.2602\n",
       "clarity      538.7063\n",
       "high_color  1282.9907\n",
       "cut          377.9646"
      ]
     },
     "metadata": {},
     "output_type": "display_data"
    }
   ],
   "source": [
    "# Run OLS with selected lambda on test set, get r-square for both\n",
    "ols <- predict(ols_train, type=\"coefficients\", s=0, exact=T, x=x, y=y)\n",
    "ols\n",
    "\n",
    "ols_train <- glmnet(x_train, y_train, alpha=1, lambda=0)"
   ]
  },
  {
   "cell_type": "markdown",
   "id": "d0577b51",
   "metadata": {},
   "source": [
    "Calculate the OLS in-sample prediction performance indicator $R^2$. To do this, you have to generate a prediction of the outcome variable using the OLS model and the training dataset."
   ]
  },
  {
   "cell_type": "code",
   "execution_count": 19,
   "id": "1bb2c48c",
   "metadata": {},
   "outputs": [
    {
     "name": "stdout",
     "output_type": "stream",
     "text": [
      "[1] \"In-sample R-squared\"\n"
     ]
    },
    {
     "data": {
      "text/html": [
       "0.729730408168813"
      ],
      "text/latex": [
       "0.729730408168813"
      ],
      "text/markdown": [
       "0.729730408168813"
      ],
      "text/plain": [
       "[1] 0.7297304"
      ]
     },
     "metadata": {},
     "output_type": "display_data"
    }
   ],
   "source": [
    "ols_predict_in <- predict(ols_train, s=0, newx = x_train)\n",
    "# Calculate r-square for OLS\n",
    "print('In-sample R-squared')\n",
    "1-mean((ols_predict_in-y_train)^2)/var(y_train) \n"
   ]
  },
  {
   "cell_type": "markdown",
   "id": "3300c4a7",
   "metadata": {},
   "source": [
    "Calculate the OLS out-of-sample prediction performance indicator $R^2$. To do this, you have to generate a prediction of the outcome variable using the Lasso model and the test dataset."
   ]
  },
  {
   "cell_type": "code",
   "execution_count": 20,
   "id": "0a6e8e02",
   "metadata": {},
   "outputs": [
    {
     "name": "stdout",
     "output_type": "stream",
     "text": [
      "[1] \"Out-of-sample R-squared\"\n"
     ]
    },
    {
     "data": {
      "text/html": [
       "0.703170189853944"
      ],
      "text/latex": [
       "0.703170189853944"
      ],
      "text/markdown": [
       "0.703170189853944"
      ],
      "text/plain": [
       "[1] 0.7031702"
      ]
     },
     "metadata": {},
     "output_type": "display_data"
    }
   ],
   "source": [
    "ols_predict_out <- predict(ols_train, s=0, newx = x_test)\n",
    "print('Out-of-sample R-squared')\n",
    "1-mean((ols_predict_out-y_test)^2)/var(y_test) "
   ]
  },
  {
   "cell_type": "markdown",
   "id": "12a54755",
   "metadata": {},
   "source": [
    "Which model has a better performance in-sample?"
   ]
  },
  {
   "cell_type": "markdown",
   "id": "6545bfa6",
   "metadata": {},
   "source": [
    "Which model has a better performance out-of-sample?"
   ]
  },
  {
   "cell_type": "code",
   "execution_count": 21,
   "id": "d2f4463f",
   "metadata": {
    "scrolled": true
   },
   "outputs": [
    {
     "name": "stdout",
     "output_type": "stream",
     "text": [
      "[1] \"OLS is better in-sample, Lasso is better out-of-sample\"\n"
     ]
    }
   ],
   "source": [
    "print(\"OLS is better in-sample, Lasso is better out-of-sample\")"
   ]
  }
 ],
 "metadata": {
  "kernelspec": {
   "display_name": "R",
   "language": "R",
   "name": "ir"
  },
  "language_info": {
   "codemirror_mode": "r",
   "file_extension": ".r",
   "mimetype": "text/x-r-source",
   "name": "R",
   "pygments_lexer": "r",
   "version": "4.2.1"
  }
 },
 "nbformat": 4,
 "nbformat_minor": 5
}
