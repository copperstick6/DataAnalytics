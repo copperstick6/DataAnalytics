{
 "cells": [
  {
   "cell_type": "markdown",
   "id": "79fcbf4a",
   "metadata": {},
   "source": [
    "## Homework 4 - Randomized Experiments versus Observational Studies\n",
    "\n",
    "**Complete the coding questions in this notebook, and use your results to answer *Lab Homework 4* on bCourses**\n",
    "\n",
    "For this homework we will be using the data: \"Voting.csv\""
   ]
  },
  {
   "cell_type": "markdown",
   "id": "f8831839",
   "metadata": {},
   "source": [
    "\n",
    "\n",
    "**Bold text is the actual Homework Quiz question.**"
   ]
  },
  {
   "cell_type": "markdown",
   "id": "fb9cccf7",
   "metadata": {},
   "source": [
    "----\n",
    "\n",
    "## Background <a id='bground'></a>\n",
    "\n",
    "Compared to other developed countries, the United States has low voter turnout rates. About 55.5% of the U.S. voting-age population casted ballots in the 2016 presidential election. In the 2000 presidential election, the turnout rate was 50.3%.\n",
    "\n",
    "Fearing another low turnout in the 2002 midterm elections, civic groups in Iowa and Michigan launched the Vote 2002 Campaign to boost voter turnout. In the week prior to the election, Vote 2002 volunteers called 60,000 voters on the phone and gave them the following message:\n",
    "\n",
    "*\"Hello, may I speak with [name of person] please? Hi. This is [caller's name] calling from Vote 2002, a nonpartisan effort working to encourage citizens to vote. We just wanted to remind you that elections are being held this Tuesday. The success of our democracy depends on whether we exercise our right to vote or not, so we hope you'll come out and vote this Tuesday. Can I count on you to vote next Tuesday?”*\n",
    "\n",
    "Our causal question of interest is: **Did the Vote 2002 campaign work? Did it increase voter turnout in the 2002 Congressional elections?** \n",
    "\n",
    "To estimate the causal effect of receving a Vote 2002 phone call, we'll need to compare the outcomes of voters that received a call--we'll call them **contacted** voters--to the outcomes for some comparison group. For our causal effect estimate to be accurate, the comparison group we use will need to reflect the *counterfactual* outcomes for contacted voters: what those voters *would have* done if they had not received the Vote 2002 call. If the comparison group poorly represents the counterfactual, our estimate will be biased.\n",
    "\n",
    "For the comparison group to represent the counterfactual, we need the only relevant difference between contacted voters and comparison voters to be that comparison voters did not receive a phone call while contacted voters did. We will first use regression to adjust for observed differences between the contacted and comparison groups. We will then compare results from this regression-based approach to what we get from a randomized experiment.\n",
    "\n",
    "----\n",
    "\n",
    "## Section 1: The Dataset <a id='data'></a>\n",
    "\n",
    "The dataset we'll use was compiled by the Vote 2002 campaign staff. The staff had demographic data for each voter they attempted to contact, and marked whether each call was completed successfully or not. Later, in order to measure the impact of their campaign, they merged these data with official voting records to see if voters did go out and vote.\n",
    "\n",
    "Here is a description of each column in the dataset:\n",
    "\n",
    "* `contact` - indicator for whether voter was successfully contacted by volunteer\n",
    "* `vote02` - indicator for whether the voter votes in the 2002 election (*this is the outcome of interest*)\n",
    "* `vote98` - indicator for whether the voter voted in the 1998 election\n",
    "* `newreg` - indicator for wheter voter is newly registered voter\n",
    "* `age` -  age of voter\n",
    "* `female` - indicator for female\n",
    "* `county`: county code\n",
    "* `treatment`: we'll discuss this one later\n",
    "\n",
    "The data we will work with cover all competitive districts in Michigan and over 300,000 voters."
   ]
  },
  {
   "cell_type": "code",
   "execution_count": 2,
   "id": "bbd47c97",
   "metadata": {
    "scrolled": true
   },
   "outputs": [],
   "source": [
    "# Load packages\n",
    "library(dplyr)\n",
    "library(tidyr)\n",
    "library(estimatr)\n",
    "library(ggplot2)\n"
   ]
  },
  {
   "cell_type": "markdown",
   "id": "8a506403",
   "metadata": {},
   "source": [
    "Load the data \"Voting.csv\", which is posted on bCourses."
   ]
  },
  {
   "cell_type": "code",
   "execution_count": 9,
   "id": "506564cc",
   "metadata": {},
   "outputs": [
    {
     "data": {
      "text/html": [
       "<table class=\"dataframe\">\n",
       "<caption>A data.frame: 6 × 8</caption>\n",
       "<thead>\n",
       "\t<tr><th></th><th scope=col>treatment</th><th scope=col>contact</th><th scope=col>vote02</th><th scope=col>vote98</th><th scope=col>newreg</th><th scope=col>age</th><th scope=col>female</th><th scope=col>county</th></tr>\n",
       "\t<tr><th></th><th scope=col>&lt;int&gt;</th><th scope=col>&lt;int&gt;</th><th scope=col>&lt;int&gt;</th><th scope=col>&lt;int&gt;</th><th scope=col>&lt;int&gt;</th><th scope=col>&lt;int&gt;</th><th scope=col>&lt;int&gt;</th><th scope=col>&lt;int&gt;</th></tr>\n",
       "</thead>\n",
       "<tbody>\n",
       "\t<tr><th scope=row>1</th><td>0</td><td>0</td><td>0</td><td>0</td><td>0</td><td>39</td><td>1</td><td>32</td></tr>\n",
       "\t<tr><th scope=row>2</th><td>0</td><td>0</td><td>0</td><td>0</td><td>0</td><td>29</td><td>0</td><td>32</td></tr>\n",
       "\t<tr><th scope=row>3</th><td>0</td><td>0</td><td>0</td><td>0</td><td>0</td><td>38</td><td>1</td><td>32</td></tr>\n",
       "\t<tr><th scope=row>4</th><td>0</td><td>0</td><td>1</td><td>0</td><td>0</td><td>41</td><td>0</td><td>32</td></tr>\n",
       "\t<tr><th scope=row>5</th><td>0</td><td>0</td><td>1</td><td>0</td><td>0</td><td>77</td><td>1</td><td>32</td></tr>\n",
       "\t<tr><th scope=row>6</th><td>0</td><td>0</td><td>0</td><td>0</td><td>0</td><td>33</td><td>0</td><td>32</td></tr>\n",
       "</tbody>\n",
       "</table>\n"
      ],
      "text/latex": [
       "A data.frame: 6 × 8\n",
       "\\begin{tabular}{r|llllllll}\n",
       "  & treatment & contact & vote02 & vote98 & newreg & age & female & county\\\\\n",
       "  & <int> & <int> & <int> & <int> & <int> & <int> & <int> & <int>\\\\\n",
       "\\hline\n",
       "\t1 & 0 & 0 & 0 & 0 & 0 & 39 & 1 & 32\\\\\n",
       "\t2 & 0 & 0 & 0 & 0 & 0 & 29 & 0 & 32\\\\\n",
       "\t3 & 0 & 0 & 0 & 0 & 0 & 38 & 1 & 32\\\\\n",
       "\t4 & 0 & 0 & 1 & 0 & 0 & 41 & 0 & 32\\\\\n",
       "\t5 & 0 & 0 & 1 & 0 & 0 & 77 & 1 & 32\\\\\n",
       "\t6 & 0 & 0 & 0 & 0 & 0 & 33 & 0 & 32\\\\\n",
       "\\end{tabular}\n"
      ],
      "text/markdown": [
       "\n",
       "A data.frame: 6 × 8\n",
       "\n",
       "| <!--/--> | treatment &lt;int&gt; | contact &lt;int&gt; | vote02 &lt;int&gt; | vote98 &lt;int&gt; | newreg &lt;int&gt; | age &lt;int&gt; | female &lt;int&gt; | county &lt;int&gt; |\n",
       "|---|---|---|---|---|---|---|---|---|\n",
       "| 1 | 0 | 0 | 0 | 0 | 0 | 39 | 1 | 32 |\n",
       "| 2 | 0 | 0 | 0 | 0 | 0 | 29 | 0 | 32 |\n",
       "| 3 | 0 | 0 | 0 | 0 | 0 | 38 | 1 | 32 |\n",
       "| 4 | 0 | 0 | 1 | 0 | 0 | 41 | 0 | 32 |\n",
       "| 5 | 0 | 0 | 1 | 0 | 0 | 77 | 1 | 32 |\n",
       "| 6 | 0 | 0 | 0 | 0 | 0 | 33 | 0 | 32 |\n",
       "\n"
      ],
      "text/plain": [
       "  treatment contact vote02 vote98 newreg age female county\n",
       "1 0         0       0      0      0      39  1      32    \n",
       "2 0         0       0      0      0      29  0      32    \n",
       "3 0         0       0      0      0      38  1      32    \n",
       "4 0         0       1      0      0      41  0      32    \n",
       "5 0         0       1      0      0      77  1      32    \n",
       "6 0         0       0      0      0      33  0      32    "
      ]
     },
     "metadata": {},
     "output_type": "display_data"
    }
   ],
   "source": [
    "# Load data\n",
    "Voting <- read.csv(\"Voting.csv\", header = TRUE)\n",
    "head(Voting)"
   ]
  },
  {
   "cell_type": "markdown",
   "id": "acfd3f4b",
   "metadata": {},
   "source": [
    "**Q1: What percentage of voters in our data were *contacted*?** (Be sure to report your answer as a *percentage (%)*. Round to nearest whole percentage point.)"
   ]
  },
  {
   "cell_type": "code",
   "execution_count": 6,
   "id": "57606174",
   "metadata": {},
   "outputs": [
    {
     "data": {
      "text/html": [
       "1.75196636995459"
      ],
      "text/latex": [
       "1.75196636995459"
      ],
      "text/markdown": [
       "1.75196636995459"
      ],
      "text/plain": [
       "[1] 1.751966"
      ]
     },
     "metadata": {},
     "output_type": "display_data"
    }
   ],
   "source": [
    "# Calculate the mean of the \"contact\" variable\n",
    "mean(Voting$contact)*100"
   ]
  },
  {
   "cell_type": "markdown",
   "id": "4b4e3764",
   "metadata": {},
   "source": [
    "**Q2: Between contacted and noncontacted voters, which group has the higher turnout rate?**\n",
    "\n",
    "(a) Contacted voters, but the difference is *not* statistically significant.\n",
    "\n",
    "(b) Contacted voters, and the difference *is* statistically significant.\n",
    "\n",
    "(c) Noncontacted voters, but the difference is *not* statistically significant.\n",
    "\n",
    "(d) Noncontacted voters, and the difference *is* statistically significant."
   ]
  },
  {
   "cell_type": "code",
   "execution_count": 10,
   "id": "afd849e9",
   "metadata": {},
   "outputs": [
    {
     "data": {
      "text/plain": [
       "\n",
       "Call:\n",
       "lm(formula = Voting$vote02 ~ Voting$contact)\n",
       "\n",
       "Residuals:\n",
       "    Min      1Q  Median      3Q     Max \n",
       "-0.6238 -0.5579  0.4421  0.4421  0.4421 \n",
       "\n",
       "Coefficients:\n",
       "                Estimate Std. Error t value Pr(>|t|)    \n",
       "(Intercept)    0.5579343  0.0008691  641.97   <2e-16 ***\n",
       "Voting$contact 0.0658195  0.0065660   10.02   <2e-16 ***\n",
       "---\n",
       "Signif. codes:  0 ‘***’ 0.001 ‘**’ 0.01 ‘*’ 0.05 ‘.’ 0.1 ‘ ’ 1\n",
       "\n",
       "Residual standard error: 0.4964 on 332082 degrees of freedom\n",
       "Multiple R-squared:  0.0003025,\tAdjusted R-squared:  0.0002995 \n",
       "F-statistic: 100.5 on 1 and 332082 DF,  p-value: < 2.2e-16\n"
      ]
     },
     "metadata": {},
     "output_type": "display_data"
    },
    {
     "name": "stdout",
     "output_type": "stream",
     "text": [
      "[1] \"b\"\n"
     ]
    }
   ],
   "source": [
    "# Run a regression with \"vote02\" as the outcome variable, and \"contact\" as the regressor. \n",
    "model1 <- lm(Voting$vote02 ~ Voting$contact)\n",
    "summary(model1)\n",
    "\n",
    "print(\"b\")\n"
   ]
  },
  {
   "cell_type": "markdown",
   "id": "0083234d",
   "metadata": {},
   "source": [
    "Does the difference in turnout rates between contacted and noncontacted voters reflect the causal effect of receiving a call? It might. But it might not if contacted and not contacted voters are different in ways other than whether they received a call.\n",
    "\n",
    "As a starting point, compare the average ages for the two groups of voters."
   ]
  },
  {
   "cell_type": "code",
   "execution_count": 12,
   "id": "02467a86",
   "metadata": {},
   "outputs": [
    {
     "data": {
      "text/plain": [
       "\n",
       "Call:\n",
       "lm(formula = Voting$age ~ Voting$contact)\n",
       "\n",
       "Residuals:\n",
       "    Min      1Q  Median      3Q     Max \n",
       "-35.218 -13.768  -3.768  12.232  61.232 \n",
       "\n",
       "Coefficients:\n",
       "               Estimate Std. Error t value Pr(>|t|)    \n",
       "(Intercept)    50.76792    0.03036 1672.29   <2e-16 ***\n",
       "Voting$contact  2.45054    0.22936   10.68   <2e-16 ***\n",
       "---\n",
       "Signif. codes:  0 ‘***’ 0.001 ‘**’ 0.01 ‘*’ 0.05 ‘.’ 0.1 ‘ ’ 1\n",
       "\n",
       "Residual standard error: 17.34 on 332082 degrees of freedom\n",
       "Multiple R-squared:  0.0003436,\tAdjusted R-squared:  0.0003406 \n",
       "F-statistic: 114.2 on 1 and 332082 DF,  p-value: < 2.2e-16\n"
      ]
     },
     "metadata": {},
     "output_type": "display_data"
    }
   ],
   "source": [
    "# Run a regression with \"age\" as the outcome variable, and \"contact\" as the regressor. \n",
    "model1 <- lm(Voting$age ~ Voting$contact)\n",
    "summary(model1)\n"
   ]
  },
  {
   "cell_type": "markdown",
   "id": "b4024f7b",
   "metadata": {},
   "source": [
    "**Q3: Given the averages in ages that you found for contacted and noncontacted voters, what should we infer about the potential for selection bias if we were to estimate the causal effect of the campaign by simply comparing contacted and non-contacted voters? (Keep in mind that older people are generally more likely to vote.)**\n",
    "\n",
    "(a) Selection bias will be positive--make the causal effect look more positive than it is.\n",
    "\n",
    "(b) Selection bias will be negative--make the causal effect look more negative than it is.\n",
    "\n",
    "(c) Selection bias is neglible"
   ]
  },
  {
   "cell_type": "code",
   "execution_count": 25,
   "id": "812a48a3",
   "metadata": {},
   "outputs": [
    {
     "name": "stdout",
     "output_type": "stream",
     "text": [
      "[1] \"a\"\n"
     ]
    }
   ],
   "source": [
    "print(\"a\")"
   ]
  },
  {
   "cell_type": "markdown",
   "id": "6e4689a9",
   "metadata": {},
   "source": [
    "\n",
    "\n",
    "**Q4:** Estimate the following regression model:\n",
    "\n",
    "$$\\text{Vote02}_{i} = \\alpha + \\beta \\times \\text{Contact}_{i} + \\gamma \\times \\text{Age}_{i} + \\epsilon$$\n",
    "\n",
    "**What is the difference in voter turnout between contacted and noncontacted voters, controlling for `age`? (Express in percentage points. Round to nearest whole percentage point.)**"
   ]
  },
  {
   "cell_type": "code",
   "execution_count": 24,
   "id": "4070f051",
   "metadata": {},
   "outputs": [
    {
     "data": {
      "text/plain": [
       "\n",
       "Call:\n",
       "lm(formula = Voting$vote02 ~ Voting$contact + Voting$age)\n",
       "\n",
       "Residuals:\n",
       "    Min      1Q  Median      3Q     Max \n",
       "-0.9926 -0.4815  0.2487  0.4475  0.6747 \n",
       "\n",
       "Coefficients:\n",
       "                Estimate Std. Error t value Pr(>|t|)    \n",
       "(Intercept)    1.975e-01  2.584e-03  76.431  < 2e-16 ***\n",
       "Voting$contact 4.842e-02  6.362e-03   7.611 2.72e-14 ***\n",
       "Voting$age     7.099e-03  4.813e-05 147.512  < 2e-16 ***\n",
       "---\n",
       "Signif. codes:  0 ‘***’ 0.001 ‘**’ 0.01 ‘*’ 0.05 ‘.’ 0.1 ‘ ’ 1\n",
       "\n",
       "Residual standard error: 0.4809 on 332081 degrees of freedom\n",
       "Multiple R-squared:  0.06178,\tAdjusted R-squared:  0.06177 \n",
       "F-statistic: 1.093e+04 on 2 and 332081 DF,  p-value: < 2.2e-16\n"
      ]
     },
     "metadata": {},
     "output_type": "display_data"
    },
    {
     "name": "stdout",
     "output_type": "stream",
     "text": [
      "[1] \"The difference in voter turnout is ~5%\"\n"
     ]
    }
   ],
   "source": [
    "# Run a regression with \"vote02\" as the outcome variable, and \"contact\" + \"age\" as regressors. \n",
    "\n",
    "\n",
    "model1 <- lm(Voting$vote02 ~ Voting$contact + Voting$age)\n",
    "summary(model1)\n",
    "\n",
    "print(\"The difference in voter turnout is ~5%\")\n"
   ]
  },
  {
   "cell_type": "markdown",
   "id": "ce91fce0",
   "metadata": {},
   "source": [
    "**Q5: Compare contacted voters to noncontacted voters for a broader set of baseline characteristics: `age`, `newreg`, `female`, and `vote98`. For which variable is the t-statistic for the difference in means largest in magnitude?**\n",
    "\n",
    "(a) `age` (age of voter)\n",
    "\n",
    "(b) `newreg` (indicator for whether voter is newly registered voter)\n",
    "\n",
    "(c) `female` (indicator for female)\n",
    "\n",
    "(d) `vote98` (indicator for whether the voter voted in the 1998 election)\n"
   ]
  },
  {
   "cell_type": "code",
   "execution_count": 14,
   "id": "6ffcc970",
   "metadata": {},
   "outputs": [
    {
     "data": {
      "text/plain": [
       "\n",
       "Call:\n",
       "lm(formula = Voting$age ~ Voting$contact)\n",
       "\n",
       "Residuals:\n",
       "    Min      1Q  Median      3Q     Max \n",
       "-35.218 -13.768  -3.768  12.232  61.232 \n",
       "\n",
       "Coefficients:\n",
       "               Estimate Std. Error t value Pr(>|t|)    \n",
       "(Intercept)    50.76792    0.03036 1672.29   <2e-16 ***\n",
       "Voting$contact  2.45054    0.22936   10.68   <2e-16 ***\n",
       "---\n",
       "Signif. codes:  0 ‘***’ 0.001 ‘**’ 0.01 ‘*’ 0.05 ‘.’ 0.1 ‘ ’ 1\n",
       "\n",
       "Residual standard error: 17.34 on 332082 degrees of freedom\n",
       "Multiple R-squared:  0.0003436,\tAdjusted R-squared:  0.0003406 \n",
       "F-statistic: 114.2 on 1 and 332082 DF,  p-value: < 2.2e-16\n"
      ]
     },
     "metadata": {},
     "output_type": "display_data"
    },
    {
     "data": {
      "text/plain": [
       "\n",
       "Call:\n",
       "lm(formula = Voting$newreg ~ Voting$contact)\n",
       "\n",
       "Residuals:\n",
       "    Min      1Q  Median      3Q     Max \n",
       "-0.1330 -0.1330 -0.1330 -0.1330  0.8831 \n",
       "\n",
       "Coefficients:\n",
       "                 Estimate Std. Error t value Pr(>|t|)    \n",
       "(Intercept)     0.1329467  0.0005939 223.871  < 2e-16 ***\n",
       "Voting$contact -0.0160681  0.0044866  -3.581 0.000342 ***\n",
       "---\n",
       "Signif. codes:  0 ‘***’ 0.001 ‘**’ 0.01 ‘*’ 0.05 ‘.’ 0.1 ‘ ’ 1\n",
       "\n",
       "Residual standard error: 0.3392 on 332082 degrees of freedom\n",
       "Multiple R-squared:  3.862e-05,\tAdjusted R-squared:  3.561e-05 \n",
       "F-statistic: 12.83 on 1 and 332082 DF,  p-value: 0.0003419\n"
      ]
     },
     "metadata": {},
     "output_type": "display_data"
    },
    {
     "data": {
      "text/plain": [
       "\n",
       "Call:\n",
       "lm(formula = Voting$female ~ Voting$contact)\n",
       "\n",
       "Residuals:\n",
       "    Min      1Q  Median      3Q     Max \n",
       "-0.5488 -0.5409  0.4591  0.4591  0.4591 \n",
       "\n",
       "Coefficients:\n",
       "                Estimate Std. Error t value Pr(>|t|)    \n",
       "(Intercept)    0.5408808  0.0008724 619.988   <2e-16 ***\n",
       "Voting$contact 0.0079333  0.0065911   1.204    0.229    \n",
       "---\n",
       "Signif. codes:  0 ‘***’ 0.001 ‘**’ 0.01 ‘*’ 0.05 ‘.’ 0.1 ‘ ’ 1\n",
       "\n",
       "Residual standard error: 0.4983 on 332082 degrees of freedom\n",
       "Multiple R-squared:  4.363e-06,\tAdjusted R-squared:  1.351e-06 \n",
       "F-statistic: 1.449 on 1 and 332082 DF,  p-value: 0.2287\n"
      ]
     },
     "metadata": {},
     "output_type": "display_data"
    },
    {
     "data": {
      "text/plain": [
       "\n",
       "Call:\n",
       "lm(formula = Voting$vote98 ~ Voting$contact)\n",
       "\n",
       "Residuals:\n",
       "    Min      1Q  Median      3Q     Max \n",
       "-0.2894 -0.2578 -0.2578  0.7422  0.7422 \n",
       "\n",
       "Coefficients:\n",
       "                Estimate Std. Error t value Pr(>|t|)    \n",
       "(Intercept)    0.2578142  0.0007663 336.432  < 2e-16 ***\n",
       "Voting$contact 0.0316324  0.0057896   5.464 4.67e-08 ***\n",
       "---\n",
       "Signif. codes:  0 ‘***’ 0.001 ‘**’ 0.01 ‘*’ 0.05 ‘.’ 0.1 ‘ ’ 1\n",
       "\n",
       "Residual standard error: 0.4377 on 332082 degrees of freedom\n",
       "Multiple R-squared:  8.988e-05,\tAdjusted R-squared:  8.687e-05 \n",
       "F-statistic: 29.85 on 1 and 332082 DF,  p-value: 4.667e-08\n"
      ]
     },
     "metadata": {},
     "output_type": "display_data"
    }
   ],
   "source": [
    "# Run a regression with \"age\" as the outcome variable, and \"contact\" as the regressor.\n",
    "model1 <- lm(Voting$age ~ Voting$contact)\n",
    "summary(model1)\n",
    "\n",
    "# Run a regression with \"newreg\" as the outcome variable, and \"contact\" as the regressor.\n",
    "model1 <- lm(Voting$newreg ~ Voting$contact)\n",
    "summary(model1)\n",
    "\n",
    "# Run a regression with \"female\" as the outcome variable, and \"contact\" as the regressor.\n",
    "model1 <- lm(Voting$female ~ Voting$contact)\n",
    "summary(model1)\n",
    "\n",
    "# Run a regression with \"vote98\" as the outcome variable, and \"contact\" as the regressor.\n",
    "model1 <- lm(Voting$vote98 ~ Voting$contact)\n",
    "summary(model1)\n"
   ]
  },
  {
   "cell_type": "code",
   "execution_count": 26,
   "id": "9fb47f47",
   "metadata": {},
   "outputs": [
    {
     "name": "stdout",
     "output_type": "stream",
     "text": [
      "[1] \"Largest t-statistic is age, 10.68\"\n"
     ]
    }
   ],
   "source": [
    "print(\"Largest t-statistic is age, 10.68\")"
   ]
  },
  {
   "cell_type": "markdown",
   "id": "4a46afc5",
   "metadata": {},
   "source": [
    "\n",
    "**Q6:** Estimate a regression model that has `vote02` as the outcome variable, and `contact` as the main regressor of interest. Include the following covariates as controls: `age`, `newreg`, `female`, and `vote98`.\n",
    "\n",
    "**What is the difference in voter turnout between contacted and noncontacted voters, controlling for `age`, `newreg`, `female`, and `vote98`?**"
   ]
  },
  {
   "cell_type": "code",
   "execution_count": 16,
   "id": "9c72ff2e",
   "metadata": {},
   "outputs": [
    {
     "data": {
      "text/plain": [
       "\n",
       "Call:\n",
       "lm(formula = Voting$vote02 ~ Voting$contact + Voting$age + Voting$newreg + \n",
       "    Voting$female + Voting$vote98)\n",
       "\n",
       "Residuals:\n",
       "    Min      1Q  Median      3Q     Max \n",
       "-1.0909 -0.4427  0.1412  0.4438  0.7519 \n",
       "\n",
       "Coefficients:\n",
       "                 Estimate Std. Error t value Pr(>|t|)    \n",
       "(Intercept)     2.529e-01  2.776e-03  91.084  < 2e-16 ***\n",
       "Voting$contact  4.402e-02  6.169e-03   7.135 9.68e-13 ***\n",
       "Voting$age      5.158e-03  4.947e-05 104.274  < 2e-16 ***\n",
       "Voting$newreg  -7.086e-02  2.511e-03 -28.224  < 2e-16 ***\n",
       "Voting$female  -2.678e-02  1.628e-03 -16.444  < 2e-16 ***\n",
       "Voting$vote98   2.603e-01  1.940e-03 134.192  < 2e-16 ***\n",
       "---\n",
       "Signif. codes:  0 ‘***’ 0.001 ‘**’ 0.01 ‘*’ 0.05 ‘.’ 0.1 ‘ ’ 1\n",
       "\n",
       "Residual standard error: 0.4663 on 332078 degrees of freedom\n",
       "Multiple R-squared:  0.1178,\tAdjusted R-squared:  0.1178 \n",
       "F-statistic:  8868 on 5 and 332078 DF,  p-value: < 2.2e-16\n"
      ]
     },
     "metadata": {},
     "output_type": "display_data"
    }
   ],
   "source": [
    "# Run a regression with \"vote02\" as the outcome variable, and \"contact\" + \"age\" + \"newreg\" + \"female\" + \"vote98\" as regressors.\n",
    "model1 <- lm(Voting$vote02 ~ Voting$contact + Voting$age + Voting$newreg + Voting$female + Voting$vote98)\n",
    "summary(model1)"
   ]
  },
  {
   "cell_type": "markdown",
   "id": "8d831500",
   "metadata": {},
   "source": [
    "Did we control for enough stuff to take care of selection bias? Who knows."
   ]
  },
  {
   "cell_type": "markdown",
   "id": "5ac8d039",
   "metadata": {},
   "source": [
    "----\n",
    "## Section 3: The Vote 2002 Experiment <a id='experiment'></a>\n",
    "\n",
    "We've been trying to estimate the causal effect of the Vote 2002 mobilization campaign on voter turnout. We have tried using observational methods for measuring this causal effect. We typically try these approaches when we have not run a randomized experiment but still want to answer a causal question.\n",
    "\n",
    "But we're in luck. In fact, the Vote 2002 campaign ran a randomized experiment! The campaign made 60,000 calls in total, and those calls were made to a **randomly selected** set of households. That mysterious column `treatment` indicates whether a voter was randomly selected to receive a call.\n",
    "\n",
    "We can use this experiment to check whether our observational methods gave us the right answer for the causal effect of receiving a Vote 2002 campaign call."
   ]
  },
  {
   "cell_type": "markdown",
   "id": "efa3edac",
   "metadata": {},
   "source": [
    "Households were reportedly randomly assigned to receive calls. Check for balance between voters that were assigned to receive a call and those that were not for one characteristic: `age`. (A better practice would be to check for all, but let's keep it simple for now)\n",
    "\n",
    "**Q7: Comparing treated and nontreated voters, which group is older?**\n",
    "\n",
    "(a) treatment group\n",
    "\n",
    "(b) control group"
   ]
  },
  {
   "cell_type": "code",
   "execution_count": 19,
   "id": "ff10fecd",
   "metadata": {},
   "outputs": [
    {
     "data": {
      "text/plain": [
       "\n",
       "Call:\n",
       "lm(formula = Voting$age ~ Voting$treatment)\n",
       "\n",
       "Residuals:\n",
       "    Min      1Q  Median      3Q     Max \n",
       "-32.859 -13.809  -3.809  12.191  61.191 \n",
       "\n",
       "Coefficients:\n",
       "                 Estimate Std. Error  t value Pr(>|t|)    \n",
       "(Intercept)      50.80859    0.03080 1649.649   <2e-16 ***\n",
       "Voting$treatment  0.05014    0.14495    0.346    0.729    \n",
       "---\n",
       "Signif. codes:  0 ‘***’ 0.001 ‘**’ 0.01 ‘*’ 0.05 ‘.’ 0.1 ‘ ’ 1\n",
       "\n",
       "Residual standard error: 17.34 on 332082 degrees of freedom\n",
       "Multiple R-squared:  3.603e-07,\tAdjusted R-squared:  -2.651e-06 \n",
       "F-statistic: 0.1197 on 1 and 332082 DF,  p-value: 0.7294\n"
      ]
     },
     "metadata": {},
     "output_type": "display_data"
    },
    {
     "name": "stdout",
     "output_type": "stream",
     "text": [
      "[1] \"treatment group is older\"\n"
     ]
    }
   ],
   "source": [
    "# Run a regression with \"age\" as the outcome variable, and \"treatment\" as the regressor.\n",
    "model1 = lm(Voting$age ~ Voting$treatment)\n",
    "summary(model1)\n",
    "\n",
    "print(\"treatment group is older\")"
   ]
  },
  {
   "cell_type": "markdown",
   "id": "a259f9e9",
   "metadata": {},
   "source": [
    "These two groups are not exactly the same but the differences should be relatively small given random assignment. Test whether the differences in characteristics between the two groups are statistically significant (Hint: run a regression with `age` as the outcome variable, and `treatment` as the regressor)\n",
    "\n",
    "**Q8: What p-value (Pr(>|t|)) is associated with the treatment coefficient in your regression? (round off to two decimal places)** "
   ]
  },
  {
   "cell_type": "code",
   "execution_count": 22,
   "id": "26639e49",
   "metadata": {},
   "outputs": [
    {
     "name": "stdout",
     "output_type": "stream",
     "text": [
      "[1] \"The p-value is .729\"\n"
     ]
    }
   ],
   "source": [
    "print(\"The p-value is .729\")"
   ]
  },
  {
   "cell_type": "markdown",
   "id": "2151c71e",
   "metadata": {},
   "source": [
    "\n",
    "\n",
    "**Q9: Estimate the the causal effect of being assigned to the treatment group--that is, *the causal effect of Vote 2002 outreach*--on 2002 voter turnout. (Do not use additional controls. Express in percentage points. Round to nearest whole percentage point.)**"
   ]
  },
  {
   "cell_type": "code",
   "execution_count": 20,
   "id": "e2c8d32c",
   "metadata": {},
   "outputs": [
    {
     "data": {
      "text/plain": [
       "\n",
       "Call:\n",
       "lm(formula = Voting$vote02 ~ Voting$treatment)\n",
       "\n",
       "Residuals:\n",
       "    Min      1Q  Median      3Q     Max \n",
       "-0.5621 -0.5589  0.4411  0.4411  0.4411 \n",
       "\n",
       "Coefficients:\n",
       "                  Estimate Std. Error t value Pr(>|t|)    \n",
       "(Intercept)      0.5589436  0.0008817 633.932   <2e-16 ***\n",
       "Voting$treatment 0.0031853  0.0041496   0.768    0.443    \n",
       "---\n",
       "Signif. codes:  0 ‘***’ 0.001 ‘**’ 0.01 ‘*’ 0.05 ‘.’ 0.1 ‘ ’ 1\n",
       "\n",
       "Residual standard error: 0.4965 on 332082 degrees of freedom\n",
       "Multiple R-squared:  1.774e-06,\tAdjusted R-squared:  -1.237e-06 \n",
       "F-statistic: 0.5893 on 1 and 332082 DF,  p-value: 0.4427\n"
      ]
     },
     "metadata": {},
     "output_type": "display_data"
    },
    {
     "name": "stdout",
     "output_type": "stream",
     "text": [
      "[1] \"The causal effect of being assigned to the treatment group on 2002 voter turnout is .3%\"\n"
     ]
    }
   ],
   "source": [
    "# Run a regression with \"vote02\" as the outcome variable, and \"treatment\" as the regressor.\n",
    "model1 = lm(Voting$vote02 ~ Voting$treatment)\n",
    "summary(model1)\n",
    "\n",
    "print(\"The causal effect of being assigned to the treatment group on 2002 voter turnout is .3%\")"
   ]
  },
  {
   "cell_type": "markdown",
   "id": "a6a95241",
   "metadata": {},
   "source": [
    "**Q10: Is the estimated causal effect statistically different than zero?**\n",
    "\n",
    "(a) True\n",
    "\n",
    "(b) False"
   ]
  },
  {
   "cell_type": "code",
   "execution_count": 21,
   "id": "6eba6ce1",
   "metadata": {},
   "outputs": [
    {
     "name": "stdout",
     "output_type": "stream",
     "text": [
      "[1] \"False, the p value is less than alpha of .05, so not statistically different\"\n"
     ]
    }
   ],
   "source": [
    "print(\"False, the p value is less than alpha of .05, so not statistically different\")"
   ]
  },
  {
   "cell_type": "markdown",
   "id": "7655599a",
   "metadata": {},
   "source": [
    "**Q11:** Based on the discrepancy between [the difference in turnout rates of contacted and noncontacted] and [the estimates for the causal effect of the Vote 2002 campaign (from the RCT)], what can we conclude?\n",
    "\n",
    "(a) There are important unobserved differences between contacted and noncontacted\n",
    "\n",
    "(b) The experiment was not needed to estimate the true causal effect"
   ]
  },
  {
   "cell_type": "code",
   "execution_count": 23,
   "id": "257f73c9",
   "metadata": {},
   "outputs": [
    {
     "name": "stdout",
     "output_type": "stream",
     "text": [
      "[1] \"a\"\n"
     ]
    }
   ],
   "source": [
    "print(\"a\")"
   ]
  }
 ],
 "metadata": {
  "kernelspec": {
   "display_name": "R",
   "language": "R",
   "name": "ir"
  },
  "language_info": {
   "codemirror_mode": "r",
   "file_extension": ".r",
   "mimetype": "text/x-r-source",
   "name": "R",
   "pygments_lexer": "r",
   "version": "4.2.1"
  }
 },
 "nbformat": 4,
 "nbformat_minor": 5
}
