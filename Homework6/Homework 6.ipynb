{
 "cells": [
  {
   "cell_type": "markdown",
   "id": "9e7180fe",
   "metadata": {},
   "source": [
    "## Homework 6\n",
    "\n",
    "**Complete the coding questions in this notebook, and use your results to answer *Lab Homework 6* on bCourses**\n",
    "\n",
    "For this homework we will be using the data: \"Ctrip.csv\" and \"YelpRD.csv\". Be sure to load those files on Jupyter.\n",
    "\n",
    "**Bold text is the actual Homework Quiz question.**\n",
    "\n",
    "----"
   ]
  },
  {
   "cell_type": "code",
   "execution_count": 16,
   "id": "c02a3723",
   "metadata": {},
   "outputs": [],
   "source": [
    "# Load packages\n",
    "  library(ggplot2)\n",
    "  library(dplyr)"
   ]
  },
  {
   "cell_type": "code",
   "execution_count": 17,
   "id": "567bde92",
   "metadata": {},
   "outputs": [],
   "source": [
    "# Load the data\n",
    "\n",
    "Ctrip <- read.csv('Ctrip.csv')\n",
    "\n",
    "Yelp <- read.csv('YelpRD.csv')\n"
   ]
  },
  {
   "attachments": {
    "Ctrip-logo.png": {
     "image/png": "[encoded data removed]"
    }
   },
   "cell_type": "markdown",
   "id": "ce3d7ecc",
   "metadata": {},
   "source": [
    "## Part 1: Differences in differences\n",
    "\n",
    "![Ctrip-logo.png](attachment:Ctrip-logo.png)\n",
    "\n",
    "In this question you will analyze HR data from Ctrip, China's largest travel agency. At the time of the study (2010), the company had 16,000 employees and a $7 billion valuation.\n",
    "\n",
    "Ctrip is considering allowing their call center employees to Work From Home (WFH). Allowing employees to WFH will reduce office expenses and potentially increase employee retention by making Ctrip a more attractive place to work. However, Ctrip is worried that employees may not work as hard at home, reducing productivity. To better understand what impact this policy has on productivity, Ctrip decides to conduct an analysis comparing employees that choose to WFH and employees that choose not to.\n",
    "\n",
    "The data come from Ctrip's airfare and hotel departments in Shanghai. These departments take calls from customers and make bookings. Employees typically work 5 shifts a week in teams of about 15 people, plus a manager.\n",
    "\n",
    "In order to qualify for WFH, employees must have their own room, broadband internet, and 6+ months of experience in their current position. Ctrip asks qualified employees if they want to WFH.\n",
    "\n",
    "### Who Chooses to Work from Home?\n",
    "\n",
    "You will compare workers that *chose* to work from home to those that *chose* to work at the office. Run the cell below to read in the data."
   ]
  },
  {
   "cell_type": "code",
   "execution_count": 18,
   "id": "71754811",
   "metadata": {},
   "outputs": [
    {
     "data": {
      "text/html": [
       "<table class=\"dataframe\">\n",
       "<caption>A data.frame: 6 × 12</caption>\n",
       "<thead>\n",
       "\t<tr><th></th><th scope=col>personid</th><th scope=col>post</th><th scope=col>performance</th><th scope=col>age</th><th scope=col>tenure</th><th scope=col>grosswage</th><th scope=col>children</th><th scope=col>bedroom</th><th scope=col>commute</th><th scope=col>men</th><th scope=col>married</th><th scope=col>wfh</th></tr>\n",
       "\t<tr><th></th><th scope=col>&lt;int&gt;</th><th scope=col>&lt;int&gt;</th><th scope=col>&lt;dbl&gt;</th><th scope=col>&lt;int&gt;</th><th scope=col>&lt;dbl&gt;</th><th scope=col>&lt;dbl&gt;</th><th scope=col>&lt;int&gt;</th><th scope=col>&lt;chr&gt;</th><th scope=col>&lt;dbl&gt;</th><th scope=col>&lt;int&gt;</th><th scope=col>&lt;int&gt;</th><th scope=col>&lt;int&gt;</th></tr>\n",
       "</thead>\n",
       "<tbody>\n",
       "\t<tr><th scope=row>1</th><td>3906</td><td>0</td><td> 0.0845730080</td><td>33</td><td>96</td><td>2.737547</td><td>1</td><td>yes</td><td>180</td><td>0</td><td>1</td><td>1</td></tr>\n",
       "\t<tr><th scope=row>2</th><td>3906</td><td>1</td><td> 0.2828962800</td><td>33</td><td>96</td><td>2.737547</td><td>1</td><td>yes</td><td>180</td><td>0</td><td>1</td><td>1</td></tr>\n",
       "\t<tr><th scope=row>3</th><td>4122</td><td>0</td><td> 0.0004498826</td><td>30</td><td>94</td><td>4.096246</td><td>0</td><td>no </td><td>180</td><td>0</td><td>0</td><td>1</td></tr>\n",
       "\t<tr><th scope=row>4</th><td>4122</td><td>1</td><td> 0.7382376200</td><td>30</td><td>94</td><td>4.096246</td><td>0</td><td>no </td><td>180</td><td>0</td><td>0</td><td>1</td></tr>\n",
       "\t<tr><th scope=row>5</th><td>4942</td><td>0</td><td> 0.9185097800</td><td>27</td><td>82</td><td>5.295395</td><td>0</td><td>yes</td><td>160</td><td>0</td><td>1</td><td>1</td></tr>\n",
       "\t<tr><th scope=row>6</th><td>4942</td><td>1</td><td>-0.2537054400</td><td>27</td><td>82</td><td>5.295395</td><td>0</td><td>yes</td><td>160</td><td>0</td><td>1</td><td>1</td></tr>\n",
       "</tbody>\n",
       "</table>\n"
      ],
      "text/latex": [
       "A data.frame: 6 × 12\n",
       "\\begin{tabular}{r|llllllllllll}\n",
       "  & personid & post & performance & age & tenure & grosswage & children & bedroom & commute & men & married & wfh\\\\\n",
       "  & <int> & <int> & <dbl> & <int> & <dbl> & <dbl> & <int> & <chr> & <dbl> & <int> & <int> & <int>\\\\\n",
       "\\hline\n",
       "\t1 & 3906 & 0 &  0.0845730080 & 33 & 96 & 2.737547 & 1 & yes & 180 & 0 & 1 & 1\\\\\n",
       "\t2 & 3906 & 1 &  0.2828962800 & 33 & 96 & 2.737547 & 1 & yes & 180 & 0 & 1 & 1\\\\\n",
       "\t3 & 4122 & 0 &  0.0004498826 & 30 & 94 & 4.096246 & 0 & no  & 180 & 0 & 0 & 1\\\\\n",
       "\t4 & 4122 & 1 &  0.7382376200 & 30 & 94 & 4.096246 & 0 & no  & 180 & 0 & 0 & 1\\\\\n",
       "\t5 & 4942 & 0 &  0.9185097800 & 27 & 82 & 5.295395 & 0 & yes & 160 & 0 & 1 & 1\\\\\n",
       "\t6 & 4942 & 1 & -0.2537054400 & 27 & 82 & 5.295395 & 0 & yes & 160 & 0 & 1 & 1\\\\\n",
       "\\end{tabular}\n"
      ],
      "text/markdown": [
       "\n",
       "A data.frame: 6 × 12\n",
       "\n",
       "| <!--/--> | personid &lt;int&gt; | post &lt;int&gt; | performance &lt;dbl&gt; | age &lt;int&gt; | tenure &lt;dbl&gt; | grosswage &lt;dbl&gt; | children &lt;int&gt; | bedroom &lt;chr&gt; | commute &lt;dbl&gt; | men &lt;int&gt; | married &lt;int&gt; | wfh &lt;int&gt; |\n",
       "|---|---|---|---|---|---|---|---|---|---|---|---|---|\n",
       "| 1 | 3906 | 0 |  0.0845730080 | 33 | 96 | 2.737547 | 1 | yes | 180 | 0 | 1 | 1 |\n",
       "| 2 | 3906 | 1 |  0.2828962800 | 33 | 96 | 2.737547 | 1 | yes | 180 | 0 | 1 | 1 |\n",
       "| 3 | 4122 | 0 |  0.0004498826 | 30 | 94 | 4.096246 | 0 | no  | 180 | 0 | 0 | 1 |\n",
       "| 4 | 4122 | 1 |  0.7382376200 | 30 | 94 | 4.096246 | 0 | no  | 180 | 0 | 0 | 1 |\n",
       "| 5 | 4942 | 0 |  0.9185097800 | 27 | 82 | 5.295395 | 0 | yes | 160 | 0 | 1 | 1 |\n",
       "| 6 | 4942 | 1 | -0.2537054400 | 27 | 82 | 5.295395 | 0 | yes | 160 | 0 | 1 | 1 |\n",
       "\n"
      ],
      "text/plain": [
       "  personid post performance   age tenure grosswage children bedroom commute men\n",
       "1 3906     0     0.0845730080 33  96     2.737547  1        yes     180     0  \n",
       "2 3906     1     0.2828962800 33  96     2.737547  1        yes     180     0  \n",
       "3 4122     0     0.0004498826 30  94     4.096246  0        no      180     0  \n",
       "4 4122     1     0.7382376200 30  94     4.096246  0        no      180     0  \n",
       "5 4942     0     0.9185097800 27  82     5.295395  0        yes     160     0  \n",
       "6 4942     1    -0.2537054400 27  82     5.295395  0        yes     160     0  \n",
       "  married wfh\n",
       "1 1       1  \n",
       "2 1       1  \n",
       "3 0       1  \n",
       "4 0       1  \n",
       "5 1       1  \n",
       "6 1       1  "
      ]
     },
     "metadata": {},
     "output_type": "display_data"
    }
   ],
   "source": [
    "#show Ctrip data\n",
    "head(Ctrip)"
   ]
  },
  {
   "cell_type": "markdown",
   "id": "76bac8a5",
   "metadata": {},
   "source": [
    "Each row corresponds to a specific employee, indexed by `personid`, in one of two periods. Below are descriptions of the variables that are included in the data.\n",
    "\n",
    "- `post`: indicator for whether row refers to period after WFH option is introduced. `post` == 0 refers to 46 weeks before Ctrip introduces a WFH option. `post` == 1 refers to 46 weeks after Ctrip introduces a WFH option.\n",
    "\n",
    "- `performance`: employee performance metric summarizes a variety of performance metrics, including the number of phone calls an employee answers, the number of orders taken, and the number of reservation phone calls made. `performance` is scaled to have mean 0 and standard deviation 1 across employees (this includes some employees from other offices that are not included in our data) in `post` == 0.\n",
    "\n",
    "- `wfh`: Whether the employee Works From Home. This takes a value of 1 for employees that WFH, and 0 for employees that work from the office.\n",
    "\n",
    "- `age`: Employee age\n",
    "   \n",
    "- `grosswage`: Gross wage (1000 Yuan)\n",
    "   \n",
    "- `children`: An indicator for whether the employee has children\n",
    "\n",
    "- `married`: An indicator for whether the employee is married\n",
    "   \n",
    "- `commute`: Commute time to and from the office recorded in minutes\n",
    "\n",
    "- `men`: indicator for whether employee is a man"
   ]
  },
  {
   "cell_type": "markdown",
   "id": "4cf0611d",
   "metadata": {},
   "source": [
    "**Using only data from the pre-period (where `post` == 0)**, calculate and compare averages of each characteristic for workers that choose to WFH to those that choose to work in the office.\n",
    "\n",
    "**Q1: How would you characterize differences in commute times?**\n",
    "\n",
    "(a) Those that choose to WFH have longer commutes, but the difference *is not* statistically sigificant.\n",
    "\n",
    "(b) Those that choose to WFH have longer commutes, and the difference *is* statistically sigificant.\n",
    "\n",
    "(c) Those that choose to work in the office have longer commutes, but the difference *is not* statistically sigificant.\n",
    "\n",
    "(d) Those that choose to work in the office have longer commutes, and the difference *is* statistically sigificant."
   ]
  },
  {
   "cell_type": "code",
   "execution_count": 19,
   "id": "50b35327",
   "metadata": {},
   "outputs": [
    {
     "data": {
      "text/plain": [
       "\n",
       "Call:\n",
       "lm(formula = commute ~ wfh, data = means)\n",
       "\n",
       "Residuals:\n",
       "   Min     1Q Median     3Q    Max \n",
       "-82.62 -44.62  -4.62  35.38 215.38 \n",
       "\n",
       "Coefficients:\n",
       "            Estimate Std. Error t value Pr(>|t|)    \n",
       "(Intercept)   84.620      4.480  18.889   <2e-16 ***\n",
       "wfh           17.326      6.757   2.564   0.0108 *  \n",
       "---\n",
       "Signif. codes:  0 ‘***’ 0.001 ‘**’ 0.01 ‘*’ 0.05 ‘.’ 0.1 ‘ ’ 1\n",
       "\n",
       "Residual standard error: 57.89 on 296 degrees of freedom\n",
       "Multiple R-squared:  0.02173,\tAdjusted R-squared:  0.01843 \n",
       "F-statistic: 6.576 on 1 and 296 DF,  p-value: 0.01083\n"
      ]
     },
     "metadata": {},
     "output_type": "display_data"
    },
    {
     "name": "stdout",
     "output_type": "stream",
     "text": [
      "[1] \"WFH = longer commute, high p value, .01, b\"\n"
     ]
    }
   ],
   "source": [
    "means = Ctrip%>% filter(post==\"0\")\n",
    "summary(lm(commute~wfh, data = means))\n",
    "print(\"WFH = longer commute, high p value, .01, b\")"
   ]
  },
  {
   "cell_type": "markdown",
   "id": "1ec2a784",
   "metadata": {},
   "source": [
    "*Calculate mean **performance** for each of the following four cases:*\n",
    "\n",
    "- Pre-policy (not WFH)\n",
    "- Post-policy (not WFH)\n",
    "- Pre-policy (WFH)\n",
    "- Post-policy (WFH)\n",
    "\n",
    "**Q2. What is the time trend for the group that DID NOT choose to WFH? In other words, calculate Post-policy (not WFH)-Pre-policy (not WFH). Round to 2 decimal places. If your answer is negative, don't forget a \"-\" sign.**"
   ]
  },
  {
   "cell_type": "code",
   "execution_count": 20,
   "id": "fd2ea19b",
   "metadata": {},
   "outputs": [
    {
     "name": "stderr",
     "output_type": "stream",
     "text": [
      "\u001b[1m\u001b[22m`summarise()` has grouped output by 'post'. You can override using the\n",
      "`.groups` argument.\n"
     ]
    },
    {
     "data": {
      "text/html": [
       "<table class=\"dataframe\">\n",
       "<caption>A grouped_df: 4 × 3</caption>\n",
       "<thead>\n",
       "\t<tr><th scope=col>post</th><th scope=col>wfh</th><th scope=col>perf</th></tr>\n",
       "\t<tr><th scope=col>&lt;int&gt;</th><th scope=col>&lt;int&gt;</th><th scope=col>&lt;dbl&gt;</th></tr>\n",
       "</thead>\n",
       "<tbody>\n",
       "\t<tr><td>0</td><td>0</td><td>-0.10654387</td></tr>\n",
       "\t<tr><td>0</td><td>1</td><td>-0.02845020</td></tr>\n",
       "\t<tr><td>1</td><td>0</td><td>-0.50915178</td></tr>\n",
       "\t<tr><td>1</td><td>1</td><td>-0.05136435</td></tr>\n",
       "</tbody>\n",
       "</table>\n"
      ],
      "text/latex": [
       "A grouped\\_df: 4 × 3\n",
       "\\begin{tabular}{lll}\n",
       " post & wfh & perf\\\\\n",
       " <int> & <int> & <dbl>\\\\\n",
       "\\hline\n",
       "\t 0 & 0 & -0.10654387\\\\\n",
       "\t 0 & 1 & -0.02845020\\\\\n",
       "\t 1 & 0 & -0.50915178\\\\\n",
       "\t 1 & 1 & -0.05136435\\\\\n",
       "\\end{tabular}\n"
      ],
      "text/markdown": [
       "\n",
       "A grouped_df: 4 × 3\n",
       "\n",
       "| post &lt;int&gt; | wfh &lt;int&gt; | perf &lt;dbl&gt; |\n",
       "|---|---|---|\n",
       "| 0 | 0 | -0.10654387 |\n",
       "| 0 | 1 | -0.02845020 |\n",
       "| 1 | 0 | -0.50915178 |\n",
       "| 1 | 1 | -0.05136435 |\n",
       "\n"
      ],
      "text/plain": [
       "  post wfh perf       \n",
       "1 0    0   -0.10654387\n",
       "2 0    1   -0.02845020\n",
       "3 1    0   -0.50915178\n",
       "4 1    1   -0.05136435"
      ]
     },
     "metadata": {},
     "output_type": "display_data"
    },
    {
     "data": {
      "text/html": [
       "<table class=\"dataframe\">\n",
       "<caption>A data.frame: 1 × 1</caption>\n",
       "<thead>\n",
       "\t<tr><th scope=col>perf</th></tr>\n",
       "\t<tr><th scope=col>&lt;dbl&gt;</th></tr>\n",
       "</thead>\n",
       "<tbody>\n",
       "\t<tr><td>-0.4026079</td></tr>\n",
       "</tbody>\n",
       "</table>\n"
      ],
      "text/latex": [
       "A data.frame: 1 × 1\n",
       "\\begin{tabular}{l}\n",
       " perf\\\\\n",
       " <dbl>\\\\\n",
       "\\hline\n",
       "\t -0.4026079\\\\\n",
       "\\end{tabular}\n"
      ],
      "text/markdown": [
       "\n",
       "A data.frame: 1 × 1\n",
       "\n",
       "| perf &lt;dbl&gt; |\n",
       "|---|\n",
       "| -0.4026079 |\n",
       "\n"
      ],
      "text/plain": [
       "  perf      \n",
       "1 -0.4026079"
      ]
     },
     "metadata": {},
     "output_type": "display_data"
    }
   ],
   "source": [
    "no_wfh = Ctrip %>% group_by(post, wfh) %>% summarize(\"perf\" = mean(performance))\n",
    "no_wfh\n",
    "\n",
    "no_wfh[3,3]-no_wfh[1,3]"
   ]
  },
  {
   "cell_type": "markdown",
   "id": "f831c05a",
   "metadata": {},
   "source": [
    "**Q3. What is the time trend for the group that DID choose to WFH? In other words, calculate Post-policy (WFH)- Pre-policy (WFH). Round to 2 decimal places. If your answer is negative, don't forget a \"-\" sign.**"
   ]
  },
  {
   "cell_type": "code",
   "execution_count": 21,
   "id": "c173d2e2",
   "metadata": {},
   "outputs": [
    {
     "data": {
      "text/html": [
       "<table class=\"dataframe\">\n",
       "<caption>A data.frame: 1 × 1</caption>\n",
       "<thead>\n",
       "\t<tr><th scope=col>perf</th></tr>\n",
       "\t<tr><th scope=col>&lt;dbl&gt;</th></tr>\n",
       "</thead>\n",
       "<tbody>\n",
       "\t<tr><td>-0.02291415</td></tr>\n",
       "</tbody>\n",
       "</table>\n"
      ],
      "text/latex": [
       "A data.frame: 1 × 1\n",
       "\\begin{tabular}{l}\n",
       " perf\\\\\n",
       " <dbl>\\\\\n",
       "\\hline\n",
       "\t -0.02291415\\\\\n",
       "\\end{tabular}\n"
      ],
      "text/markdown": [
       "\n",
       "A data.frame: 1 × 1\n",
       "\n",
       "| perf &lt;dbl&gt; |\n",
       "|---|\n",
       "| -0.02291415 |\n",
       "\n"
      ],
      "text/plain": [
       "  perf       \n",
       "1 -0.02291415"
      ]
     },
     "metadata": {},
     "output_type": "display_data"
    }
   ],
   "source": [
    "no_wfh[4,3]-no_wfh[2,3]"
   ]
  },
  {
   "cell_type": "markdown",
   "id": "3717cec2",
   "metadata": {},
   "source": [
    "Now use a difference-in-difference regression model to estimate the effect of WFH on performance (as we did in lab looking at the Yelp ban policy).\n",
    "\n",
    "**Q4. What is the estimated treatment effect (e.g., the impact WFH on performance)? Report your answer to 2 decimal places.**"
   ]
  },
  {
   "cell_type": "code",
   "execution_count": 22,
   "id": "10fa9594",
   "metadata": {},
   "outputs": [
    {
     "data": {
      "text/plain": [
       "\n",
       "Call:\n",
       "lm(formula = performance ~ post + wfh + post * wfh, data = Ctrip)\n",
       "\n",
       "Residuals:\n",
       "    Min      1Q  Median      3Q     Max \n",
       "-2.2400 -0.5089 -0.0249  0.4647  2.2569 \n",
       "\n",
       "Coefficients:\n",
       "            Estimate Std. Error t value Pr(>|t|)    \n",
       "(Intercept) -0.10654    0.05663  -1.881  0.06040 .  \n",
       "post        -0.40261    0.08008  -5.027  6.6e-07 ***\n",
       "wfh          0.07809    0.08541   0.914  0.36091    \n",
       "post:wfh     0.37969    0.12079   3.143  0.00175 ** \n",
       "---\n",
       "Signif. codes:  0 ‘***’ 0.001 ‘**’ 0.01 ‘*’ 0.05 ‘.’ 0.1 ‘ ’ 1\n",
       "\n",
       "Residual standard error: 0.7318 on 592 degrees of freedom\n",
       "Multiple R-squared:  0.07067,\tAdjusted R-squared:  0.06596 \n",
       "F-statistic: 15.01 on 3 and 592 DF,  p-value: 1.997e-09\n"
      ]
     },
     "metadata": {},
     "output_type": "display_data"
    },
    {
     "name": "stdout",
     "output_type": "stream",
     "text": [
      "[1] \"Treatment effect: .08\"\n"
     ]
    }
   ],
   "source": [
    "did_model = lm(performance~post+wfh+post*wfh, data = Ctrip)\n",
    "summary(did_model)\n",
    "print(\"Treatment effect: .08\")"
   ]
  },
  {
   "cell_type": "markdown",
   "id": "5a39920b",
   "metadata": {},
   "source": [
    "**Q5. What is the p-value on the estimated treatment effect? Report your answer to 3 decimal places.**"
   ]
  },
  {
   "cell_type": "code",
   "execution_count": 23,
   "id": "7fde454e",
   "metadata": {},
   "outputs": [
    {
     "name": "stdout",
     "output_type": "stream",
     "text": [
      "[1] \"P-value: .361\"\n"
     ]
    }
   ],
   "source": [
    "print(\"P-value: .361\")"
   ]
  },
  {
   "cell_type": "markdown",
   "id": "dd8db4e8",
   "metadata": {},
   "source": [
    "## Part 2: Regression discontinuity\n",
    "\n",
    "We're (once again) going to use the thresholds in Yelp star ratings to identify the causal effect of ratings on consumer behavior.\n",
    "\n",
    "However, our **outcome** has changed - we will now focus on the availability **at 8pm** (not 7pm as in the lab):\n",
    "\n",
    "**`avail_8pm`**: The **average** availability of a restaurant at 8pm.\n",
    "\n",
    "- Remember: restaurants want *less* availability.\n",
    "\n",
    "Here is a reminder of the other relevant variables:\n",
    "\n",
    "**Running variable (which defines treatment):** \n",
    "\n",
    "* `avg_rating`: the average restaurant rating from 0 to 5.\n",
    "\n",
    "**Treatment:** \n",
    "\n",
    "- `display_rating`: The restaurants **displayed** rating (using rounded 0.5 star increments).\n",
    "\n",
    "**Other variables:**\n",
    "\n",
    "* `price`: price category of restaurant ($ \\$, \\; \\$\\$, \\; \\$ \\$ \\$, \\; \\$ \\$ \\$ \\$ $)"
   ]
  },
  {
   "cell_type": "markdown",
   "id": "6d4219fd",
   "metadata": {},
   "source": [
    "Run the following regression:\n",
    "\n",
    "$$\\text{avail}\\_\\text{8pm}_{i} = \\beta_{0} + \\beta_{1} \\text{cross}_{i} + \\beta_{2} (\\text{avg}\\_\\text{rating}_{i} - 3.75) + \\beta_{3} (\\text{avg}\\_\\text{rating}_{i} - 3.75) \\times \\text{cross}_{i}   + e_{i}$$\n",
    "\n",
    "Restrict your regression to the following bandwidths (this will involve running 3 separate regressions):\n",
    "\n",
    "Model 1: $\\pm 0.5$ of 3.75 = 3.25 to 4.25 \n",
    "\n",
    "Model 2: $\\pm 0.4$ of 3.75 = 3.35 to 4.15 \n",
    "\n",
    "Model 3: $\\pm 0.2$ of 3.75 = 3.55 to 3.95 \n",
    "\n",
    "**Q6. What is the coefficient estimate on the treatment effect in Model 1? Remember to generate an indicator for crossing the threshold, as we did in lab. Round to 2 decimal places. Don't forget a negative sign!**"
   ]
  },
  {
   "cell_type": "code",
   "execution_count": 27,
   "id": "d78f9d11",
   "metadata": {},
   "outputs": [
    {
     "data": {
      "text/plain": [
       "\n",
       "Call:\n",
       "lm(formula = avail_8pm ~ cross + avg_rating_adj + cross * avg_rating_adj, \n",
       "    data = Yelp_adj %>% filter(avg_rating >= 3.25 & avg_rating <= \n",
       "        4.25))\n",
       "\n",
       "Residuals:\n",
       "    Min      1Q  Median      3Q     Max \n",
       "-0.7564 -0.5712  0.2539  0.2695  0.5001 \n",
       "\n",
       "Coefficients:\n",
       "                     Estimate Std. Error t value Pr(>|t|)    \n",
       "(Intercept)           0.75653    0.01156  65.438  < 2e-16 ***\n",
       "cross                -0.11339    0.01659  -6.837 8.52e-12 ***\n",
       "avg_rating_adj        0.05293    0.04231   1.251    0.211    \n",
       "cross:avg_rating_adj -0.34072    0.06533  -5.216 1.86e-07 ***\n",
       "---\n",
       "Signif. codes:  0 ‘***’ 0.001 ‘**’ 0.01 ‘*’ 0.05 ‘.’ 0.1 ‘ ’ 1\n",
       "\n",
       "Residual standard error: 0.4604 on 11633 degrees of freedom\n",
       "Multiple R-squared:  0.03082,\tAdjusted R-squared:  0.03057 \n",
       "F-statistic: 123.3 on 3 and 11633 DF,  p-value: < 2.2e-16\n"
      ]
     },
     "metadata": {},
     "output_type": "display_data"
    },
    {
     "data": {
      "text/plain": [
       "\n",
       "Call:\n",
       "lm(formula = avail_8pm ~ cross + avg_rating_adj + cross * avg_rating_adj, \n",
       "    data = Yelp_adj %>% filter(avg_rating >= 3.35 & avg_rating <= \n",
       "        4.15))\n",
       "\n",
       "Residuals:\n",
       "    Min      1Q  Median      3Q     Max \n",
       "-0.7897 -0.5773  0.2387  0.3714  0.4550 \n",
       "\n",
       "Coefficients:\n",
       "                     Estimate Std. Error t value Pr(>|t|)    \n",
       "(Intercept)           0.72511    0.01263  57.393  < 2e-16 ***\n",
       "cross                -0.09328    0.01770  -5.270 1.39e-07 ***\n",
       "avg_rating_adj       -0.16156    0.05422  -2.980  0.00289 ** \n",
       "cross:avg_rating_adj -0.05656    0.07910  -0.715  0.47463    \n",
       "---\n",
       "Signif. codes:  0 ‘***’ 0.001 ‘**’ 0.01 ‘*’ 0.05 ‘.’ 0.1 ‘ ’ 1\n",
       "\n",
       "Residual standard error: 0.4568 on 10322 degrees of freedom\n",
       "Multiple R-squared:  0.03357,\tAdjusted R-squared:  0.03329 \n",
       "F-statistic: 119.5 on 3 and 10322 DF,  p-value: < 2.2e-16\n"
      ]
     },
     "metadata": {},
     "output_type": "display_data"
    },
    {
     "data": {
      "text/plain": [
       "\n",
       "Call:\n",
       "lm(formula = avail_8pm ~ cross + avg_rating_adj + cross * avg_rating_adj, \n",
       "    data = Yelp_adj %>% filter(avg_rating >= 3.55 & avg_rating <= \n",
       "        3.95))\n",
       "\n",
       "Residuals:\n",
       "    Min      1Q  Median      3Q     Max \n",
       "-0.7927 -0.5982  0.2533  0.3277  0.4416 \n",
       "\n",
       "Coefficients:\n",
       "                     Estimate Std. Error t value Pr(>|t|)    \n",
       "(Intercept)           0.67557    0.01838  36.756  < 2e-16 ***\n",
       "cross                -0.11722    0.02526  -4.641 3.55e-06 ***\n",
       "avg_rating_adj       -0.58621    0.14560  -4.026 5.75e-05 ***\n",
       "cross:avg_rating_adj  1.31726    0.21347   6.171 7.27e-10 ***\n",
       "---\n",
       "Signif. codes:  0 ‘***’ 0.001 ‘**’ 0.01 ‘*’ 0.05 ‘.’ 0.1 ‘ ’ 1\n",
       "\n",
       "Residual standard error: 0.4592 on 5594 degrees of freedom\n",
       "Multiple R-squared:  0.02143,\tAdjusted R-squared:  0.0209 \n",
       "F-statistic: 40.83 on 3 and 5594 DF,  p-value: < 2.2e-16\n"
      ]
     },
     "metadata": {},
     "output_type": "display_data"
    }
   ],
   "source": [
    "Yelp_adj = Yelp %>% mutate(cross = ifelse(avg_rating >=3.75,1,0))%>% \n",
    "mutate(avg_rating_adj = avg_rating-3.75)\n",
    "\n",
    "model = lm(avail_8pm~cross+avg_rating_adj+cross*avg_rating_adj, data=Yelp_adj%>%filter(avg_rating>=3.25 &avg_rating<=4.25))\n",
    "\n",
    "summary(model)\n",
    "\n",
    "model2 = lm(avail_8pm~cross+avg_rating_adj+cross*avg_rating_adj, data=Yelp_adj%>%filter(avg_rating>=3.35 &avg_rating<=4.15))\n",
    "\n",
    "summary(model2)\n",
    "\n",
    "model3 = lm(avail_8pm~cross+avg_rating_adj+cross*avg_rating_adj, data=Yelp_adj%>%filter(avg_rating>=3.55 &avg_rating<=3.95))\n",
    "\n",
    "summary(model3)"
   ]
  },
  {
   "cell_type": "markdown",
   "id": "d7633ce4",
   "metadata": {},
   "source": [
    "**Q7.  Which model (Model 1, 2, or 3) has the largest (most negative) treatment effect?**\n",
    "\n",
    "(a) $\\pm 0.5$ (Model 1)\n",
    "\n",
    "(b) $\\pm 0.4$ (Model 2)\n",
    "\n",
    "(c) $\\pm 0.2$ (Model 3)\n",
    "\n",
    "**Q8. What is the p-value on the treatment effect ($b_{1}$) from the model you selected in the previous question?**\n",
    "\n",
    "**Q9. Which model (1, 2, or 3) has the smallest p-value on the treatment effect ($b_{1}$)?**\n",
    "\n",
    "(a) $\\pm 0.5$ (Model 1) \n",
    "\n",
    "(b) $\\pm 0.4$ (Model 2)\n",
    "\n",
    "(c) $\\pm 0.2$ (Model 3)\n",
    "\n",
    "**Q10. Which scenario best fits your responses in the last 3 questions?**\n",
    "\n",
    "(a) The model with the lowest p-value on the treatment effect also has the largest (most negative) treatment effect.\n",
    "\n",
    "(b) The model with the lowest p-value on the treatment effect is NOT the model with the largest (most negative) treatment effect. This is because the model with the largest treatment effect has lower bandwidth (and so a smaller sample size).\n",
    "\n",
    "(c) The model with the lowest p-value on the treatment effect IS the model with the largest (most negative) treatment effect. This is because the model with the largest treatment effect has lower bandwidth (and so a smaller sample size).\n",
    "\n",
    "**Q11. Compare the three 8pm models you just estimated to the three 7pm models we looked at in lab. What general trend do you observe?**\n",
    "\n",
    "(a) In the homework results (looking at 8pm availability), having 4 (vs 3.5) stars has a SMALLER impact (coefficients closer to 0) on restaurant availability than in the model from lab looking at 7pm availability. \n",
    "\n",
    "(b) In the homework results (looking at 8pm availability), having 4 (vs 3.5) stars has a LARGER impact (coefficients closer to 0) on restaurant availability than in the model from lab looking at 7pm availability."
   ]
  },
  {
   "cell_type": "code",
   "execution_count": 25,
   "id": "35b9edcf",
   "metadata": {},
   "outputs": [
    {
     "name": "stdout",
     "output_type": "stream",
     "text": [
      "[1] \"6: 2.46\"\n",
      "[1] \"7: c\"\n",
      "[1] \"8: 2.9e-10\"\n",
      "[1] \"9: a\"\n",
      "[1] \"10: a\"\n",
      "[1] \"11: a\"\n"
     ]
    }
   ],
   "source": [
    "print(\"6: -.11\")\n",
    "print(\"7: c\")\n",
    "print(\"8: 0\")\n",
    "print(\"9: a\")\n",
    "print(\"10: b\")\n",
    "print(\"11: a\")"
   ]
  }
 ],
 "metadata": {
  "kernelspec": {
   "display_name": "R",
   "language": "R",
   "name": "ir"
  },
  "language_info": {
   "codemirror_mode": "r",
   "file_extension": ".r",
   "mimetype": "text/x-r-source",
   "name": "R",
   "pygments_lexer": "r",
   "version": "4.2.1"
  }
 },
 "nbformat": 4,
 "nbformat_minor": 5
}
