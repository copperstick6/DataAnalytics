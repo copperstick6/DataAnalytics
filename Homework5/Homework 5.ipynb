{
 "cells": [
  {
   "cell_type": "markdown",
   "id": "c401f511",
   "metadata": {},
   "source": [
    "# Homework 5\n",
    "\n",
    "**Complete the coding questions in this notebook, and use your results to answer *Lab Homework 5* on bCourses**\n",
    "\n",
    "For this homework we will be using the data: \"Ziprecruiter.csv\"\n",
    "\n",
    "**Bold text is the actual Homework Quiz question.**\n",
    "\n",
    "----"
   ]
  },
  {
   "cell_type": "code",
   "execution_count": 3,
   "id": "808764d5",
   "metadata": {},
   "outputs": [],
   "source": [
    "# Load required packages\n",
    "\n",
    "library(dplyr)\n",
    "library(purrr)\n",
    "library(ggplot2)\n"
   ]
  },
  {
   "cell_type": "markdown",
   "id": "0b7cfe39",
   "metadata": {},
   "source": [
    "Load in the data."
   ]
  },
  {
   "cell_type": "code",
   "execution_count": 10,
   "id": "e8eafae1",
   "metadata": {},
   "outputs": [
    {
     "data": {
      "text/html": [
       "<table class=\"dataframe\">\n",
       "<caption>A data.frame: 6 × 3</caption>\n",
       "<thead>\n",
       "\t<tr><th></th><th scope=col>price</th><th scope=col>signup</th><th scope=col>revenue</th></tr>\n",
       "\t<tr><th></th><th scope=col>&lt;int&gt;</th><th scope=col>&lt;int&gt;</th><th scope=col>&lt;int&gt;</th></tr>\n",
       "</thead>\n",
       "<tbody>\n",
       "\t<tr><th scope=row>1</th><td> 39</td><td>1</td><td>39</td></tr>\n",
       "\t<tr><th scope=row>2</th><td>159</td><td>0</td><td> 0</td></tr>\n",
       "\t<tr><th scope=row>3</th><td>299</td><td>0</td><td> 0</td></tr>\n",
       "\t<tr><th scope=row>4</th><td> 79</td><td>0</td><td> 0</td></tr>\n",
       "\t<tr><th scope=row>5</th><td> 99</td><td>0</td><td> 0</td></tr>\n",
       "\t<tr><th scope=row>6</th><td> 79</td><td>0</td><td> 0</td></tr>\n",
       "</tbody>\n",
       "</table>\n"
      ],
      "text/latex": [
       "A data.frame: 6 × 3\n",
       "\\begin{tabular}{r|lll}\n",
       "  & price & signup & revenue\\\\\n",
       "  & <int> & <int> & <int>\\\\\n",
       "\\hline\n",
       "\t1 &  39 & 1 & 39\\\\\n",
       "\t2 & 159 & 0 &  0\\\\\n",
       "\t3 & 299 & 0 &  0\\\\\n",
       "\t4 &  79 & 0 &  0\\\\\n",
       "\t5 &  99 & 0 &  0\\\\\n",
       "\t6 &  79 & 0 &  0\\\\\n",
       "\\end{tabular}\n"
      ],
      "text/markdown": [
       "\n",
       "A data.frame: 6 × 3\n",
       "\n",
       "| <!--/--> | price &lt;int&gt; | signup &lt;int&gt; | revenue &lt;int&gt; |\n",
       "|---|---|---|---|\n",
       "| 1 |  39 | 1 | 39 |\n",
       "| 2 | 159 | 0 |  0 |\n",
       "| 3 | 299 | 0 |  0 |\n",
       "| 4 |  79 | 0 |  0 |\n",
       "| 5 |  99 | 0 |  0 |\n",
       "| 6 |  79 | 0 |  0 |\n",
       "\n"
      ],
      "text/plain": [
       "  price signup revenue\n",
       "1  39   1      39     \n",
       "2 159   0       0     \n",
       "3 299   0       0     \n",
       "4  79   0       0     \n",
       "5  99   0       0     \n",
       "6  79   0       0     "
      ]
     },
     "metadata": {},
     "output_type": "display_data"
    }
   ],
   "source": [
    "# Load the data\n",
    "\n",
    "ZipRecruiter <- read.csv(\"Ziprecruiter.csv\")\n",
    "\n",
    "head(ZipRecruiter)"
   ]
  },
  {
   "cell_type": "markdown",
   "id": "585de657",
   "metadata": {},
   "source": [
    "We will consider what would have happened if we had chosen an alternative price of \\\\$159 rather than \\\\$249 in our hypothetical, smaller scale experiment.\n",
    "\n",
    "**Q1. In the original experiment, what is standard deviation of `revenue` when the price is \\\\$99 or \\\\$159? Round to the nearest whole dollar.**"
   ]
  },
  {
   "cell_type": "code",
   "execution_count": 13,
   "id": "afefede8",
   "metadata": {},
   "outputs": [
    {
     "data": {
      "text/html": [
       "<table class=\"dataframe\">\n",
       "<caption>A data.frame: 1 × 1</caption>\n",
       "<thead>\n",
       "\t<tr><th scope=col>SD</th></tr>\n",
       "\t<tr><th scope=col>&lt;dbl&gt;</th></tr>\n",
       "</thead>\n",
       "<tbody>\n",
       "\t<tr><td>53.93609</td></tr>\n",
       "</tbody>\n",
       "</table>\n"
      ],
      "text/latex": [
       "A data.frame: 1 × 1\n",
       "\\begin{tabular}{l}\n",
       " SD\\\\\n",
       " <dbl>\\\\\n",
       "\\hline\n",
       "\t 53.93609\\\\\n",
       "\\end{tabular}\n"
      ],
      "text/markdown": [
       "\n",
       "A data.frame: 1 × 1\n",
       "\n",
       "| SD &lt;dbl&gt; |\n",
       "|---|\n",
       "| 53.93609 |\n",
       "\n"
      ],
      "text/plain": [
       "  SD      \n",
       "1 53.93609"
      ]
     },
     "metadata": {},
     "output_type": "display_data"
    },
    {
     "name": "stdout",
     "output_type": "stream",
     "text": [
      "[1] \"STDEV of revenue is $54\"\n"
     ]
    }
   ],
   "source": [
    "ZipRecruiter %>%\n",
    "    filter(price == \"99\" | price == \"159\") %>%\n",
    "    summarize(\"SD\" = sd(revenue))\n",
    "\n",
    "print(\"STDEV of revenue is $54\")\n"
   ]
  },
  {
   "cell_type": "markdown",
   "id": "31502241",
   "metadata": {},
   "source": [
    "**Q2. In the original experiment, what is effect size on revenue for a price of \\\\$159? Measure the effect size in DOLLARS, and round to the nearest whole dollar.**"
   ]
  },
  {
   "cell_type": "code",
   "execution_count": 14,
   "id": "f2fbf9a7",
   "metadata": {},
   "outputs": [
    {
     "data": {
      "text/plain": [
       "\n",
       "Call:\n",
       "lm(formula = ZipRecruiter$revenue ~ ZipRecruiter$price)\n",
       "\n",
       "Residuals:\n",
       "   Min     1Q Median     3Q    Max \n",
       "-50.80 -31.29 -19.58 -13.73 348.20 \n",
       "\n",
       "Coefficients:\n",
       "                   Estimate Std. Error t value Pr(>|t|)    \n",
       "(Intercept)        11.87636    1.28928   9.212   <2e-16 ***\n",
       "ZipRecruiter$price  0.09754    0.00661  14.756   <2e-16 ***\n",
       "---\n",
       "Signif. codes:  0 ‘***’ 0.001 ‘**’ 0.01 ‘*’ 0.05 ‘.’ 0.1 ‘ ’ 1\n",
       "\n",
       "Residual standard error: 68.55 on 7825 degrees of freedom\n",
       "Multiple R-squared:  0.02707,\tAdjusted R-squared:  0.02695 \n",
       "F-statistic: 217.7 on 1 and 7825 DF,  p-value: < 2.2e-16\n"
      ]
     },
     "metadata": {},
     "output_type": "display_data"
    },
    {
     "name": "stdout",
     "output_type": "stream",
     "text": [
      "[1] \"Charging 159 increases revenue by .09754*159+11.87636 = 27, effect size is 27/54 = .5 SD\"\n"
     ]
    }
   ],
   "source": [
    "model1 <- lm(ZipRecruiter$revenue ~ ZipRecruiter$price)\n",
    "summary(model1)\n",
    "print(\"Charging 159 increases revenue by .09754*159+11.87636 = 27, effect size is 27/54 = .5 SD\")\n"
   ]
  },
  {
   "cell_type": "markdown",
   "id": "b07fc63c",
   "metadata": {},
   "source": [
    "**Q3. Consider a smaller scale experiment as we did in Lab 5, where we only include prices of \\\\$99 and \\\\$159 and include 120 customers per price rather than 800. For this experiment, what is the power associated with the effect size you reported in Q2? As in lab, use a significance level of 0.05, remember to convert the effect size into standard deviations, and round power to two decimal places.**"
   ]
  },
  {
   "cell_type": "code",
   "execution_count": 16,
   "id": "a7f91455",
   "metadata": {},
   "outputs": [
    {
     "data": {
      "text/plain": [
       "\n",
       "Call:\n",
       "lm(formula = sample$revenue ~ sample$price)\n",
       "\n",
       "Residuals:\n",
       "   Min     1Q Median     3Q    Max \n",
       "-29.02 -29.02 -24.75 -24.75 129.98 \n",
       "\n",
       "Coefficients:\n",
       "             Estimate Std. Error t value Pr(>|t|)\n",
       "(Intercept)  17.69821   15.86186   1.116    0.266\n",
       "sample$price  0.07123    0.11778   0.605    0.546\n",
       "\n",
       "Residual standard error: 53.89 on 232 degrees of freedom\n",
       "Multiple R-squared:  0.001574,\tAdjusted R-squared:  -0.00273 \n",
       "F-statistic: 0.3657 on 1 and 232 DF,  p-value: 0.5459\n"
      ]
     },
     "metadata": {},
     "output_type": "display_data"
    },
    {
     "data": {
      "text/plain": [
       "\n",
       "     Two-sample t test power calculation \n",
       "\n",
       "              n = 120\n",
       "          delta = 0.5\n",
       "             sd = 1\n",
       "      sig.level = 0.05\n",
       "          power = 0.9711088\n",
       "    alternative = two.sided\n",
       "\n",
       "NOTE: n is number in *each* group\n"
      ]
     },
     "metadata": {},
     "output_type": "display_data"
    },
    {
     "name": "stdout",
     "output_type": "stream",
     "text": [
      "[1] \"Power is .97\"\n"
     ]
    }
   ],
   "source": [
    "#what are results using 15% sample?\n",
    "sample <- ZipRecruiter %>%\n",
    "    filter(price == \"99\" | price == \"159\")%>%\n",
    "    slice_sample(prop = 0.15, replace = FALSE)\n",
    "\n",
    "#re-estimate regression using sample\n",
    "sample_model <-lm(sample$revenue ~ sample$price)\n",
    "\n",
    "summary(sample_model)\n",
    "\n",
    "power.t.test(n=120, delta=.5, sd=1 , sig.level=.05)\n",
    "print(\"Power is .97\")"
   ]
  },
  {
   "cell_type": "markdown",
   "id": "87a988fe",
   "metadata": {},
   "source": [
    "**Q4. Since our hypothetical experiment is underpowered, we are likely to:**\n",
    "\n",
    "(a) Get a false positive (i.e., make a Type I error), that is, to conclude that there is an effect when there actually isn't an effect. \n",
    "\n",
    "(b) Get a false positive (i.e., make a Type I error), that is, to conclude that there is no effect when there actually is an effect. \n",
    "\n",
    "(c) Get a false negative (i.e., make a Type II error), that is, to conclude that there is no effect when there actually is an effect. \n",
    "\n",
    "(d) Get a false negative (i.e., make a Type II error), that is, to conclude that there is an effect when there actually isn't an effect."
   ]
  },
  {
   "cell_type": "code",
   "execution_count": 16,
   "id": "9646fb9b",
   "metadata": {},
   "outputs": [
    {
     "name": "stdout",
     "output_type": "stream",
     "text": [
      "[1] \"D\"\n"
     ]
    }
   ],
   "source": [
    "print(\"D\")"
   ]
  },
  {
   "cell_type": "markdown",
   "id": "f51746ea",
   "metadata": {},
   "source": [
    "**Q5. What significance level would we need for our hypothetical experiment to have power of 0.8? Round to two decimal places.**"
   ]
  },
  {
   "cell_type": "code",
   "execution_count": 18,
   "id": "b45cef83",
   "metadata": {},
   "outputs": [
    {
     "data": {
      "text/plain": [
       "\n",
       "     Two-sample t test power calculation \n",
       "\n",
       "              n = 120\n",
       "          delta = 0.5\n",
       "             sd = 1\n",
       "      sig.level = 0.0027629\n",
       "          power = 0.8\n",
       "    alternative = two.sided\n",
       "\n",
       "NOTE: n is number in *each* group\n"
      ]
     },
     "metadata": {},
     "output_type": "display_data"
    },
    {
     "name": "stdout",
     "output_type": "stream",
     "text": [
      "[1] \"Significance level is .0027 or .27%\"\n"
     ]
    }
   ],
   "source": [
    "power.t.test(n=120, delta=.5, sd=1 , power=.8, sig.level=NULL)\n",
    "print(\"Significance level is .0027 or .27%\")"
   ]
  },
  {
   "cell_type": "markdown",
   "id": "4e20cc08",
   "metadata": {},
   "source": [
    "**Q6. What sample size per price would we need for our hypothetical experiment to have power of 0.8? Use a significance level of 0.05 and round to the nearest whole number.**"
   ]
  },
  {
   "cell_type": "code",
   "execution_count": 20,
   "id": "171e0d4f",
   "metadata": {},
   "outputs": [
    {
     "data": {
      "text/plain": [
       "\n",
       "     Two-sample t test power calculation \n",
       "\n",
       "              n = 63.76576\n",
       "          delta = 0.5\n",
       "             sd = 1\n",
       "      sig.level = 0.05\n",
       "          power = 0.8\n",
       "    alternative = two.sided\n",
       "\n",
       "NOTE: n is number in *each* group\n"
      ]
     },
     "metadata": {},
     "output_type": "display_data"
    },
    {
     "name": "stdout",
     "output_type": "stream",
     "text": [
      "[1] \"Need 64 samples\"\n"
     ]
    }
   ],
   "source": [
    "power.t.test(n=NULL, delta=.5, sd=1 , power=.8, sig.level=.05)\n",
    "print(\"Need 64 samples\")"
   ]
  },
  {
   "cell_type": "markdown",
   "id": "7324c2b5",
   "metadata": {},
   "source": [
    "**Q7. Suppose that, when evaluating the experiment using a regression, we include baseline customer-level control variables that reduce the residual standard deviation of `revenue` by 50%. Now what sample size per price would we need for our hypothetical experiment to have power of 0.8?**"
   ]
  },
  {
   "cell_type": "code",
   "execution_count": 22,
   "id": "dfc7a4ab",
   "metadata": {},
   "outputs": [
    {
     "data": {
      "text/plain": [
       "\n",
       "     Two-sample t test power calculation \n",
       "\n",
       "              n = 16.71477\n",
       "          delta = 1\n",
       "             sd = 1\n",
       "      sig.level = 0.05\n",
       "          power = 0.8\n",
       "    alternative = two.sided\n",
       "\n",
       "NOTE: n is number in *each* group\n"
      ]
     },
     "metadata": {},
     "output_type": "display_data"
    },
    {
     "name": "stdout",
     "output_type": "stream",
     "text": [
      "[1] \"Need 16 samples\"\n"
     ]
    }
   ],
   "source": [
    "power.t.test(n=NULL, delta=1, sd=1 , power=.8, sig.level=.05)\n",
    "print(\"Need 16 samples\")"
   ]
  },
  {
   "cell_type": "markdown",
   "id": "ca01ad24",
   "metadata": {},
   "source": [
    "Now let's return to analyzing the original ZipRecruiter experiment (rather than our hypothetical, smaller scale experiment.)\n",
    "\n",
    "**Q8. What is the standard deviation of `revenue`, including all prices? Round to the nearest whole dollar.**"
   ]
  },
  {
   "cell_type": "code",
   "execution_count": 23,
   "id": "9edb9a70",
   "metadata": {},
   "outputs": [
    {
     "data": {
      "text/html": [
       "69.4921935507504"
      ],
      "text/latex": [
       "69.4921935507504"
      ],
      "text/markdown": [
       "69.4921935507504"
      ],
      "text/plain": [
       "[1] 69.49219"
      ]
     },
     "metadata": {},
     "output_type": "display_data"
    },
    {
     "name": "stdout",
     "output_type": "stream",
     "text": [
      "[1] \"$69\"\n"
     ]
    }
   ],
   "source": [
    "sd(ZipRecruiter$revenue)\n",
    "print(\"$69\")"
   ]
  },
  {
   "cell_type": "markdown",
   "id": "a095aa41",
   "metadata": {},
   "source": [
    "**Q9. What is the MDE of the original experiment for any given price? Report the MDE in DOLLARS, and round to the nearest whole dollar.**"
   ]
  },
  {
   "cell_type": "code",
   "execution_count": 24,
   "id": "2f01baa6",
   "metadata": {},
   "outputs": [
    {
     "data": {
      "text/plain": [
       "\n",
       "     Two-sample t test power calculation \n",
       "\n",
       "              n = 800\n",
       "          delta = 0.14019\n",
       "             sd = 1\n",
       "      sig.level = 0.05\n",
       "          power = 0.8\n",
       "    alternative = two.sided\n",
       "\n",
       "NOTE: n is number in *each* group\n"
      ]
     },
     "metadata": {},
     "output_type": "display_data"
    },
    {
     "name": "stdout",
     "output_type": "stream",
     "text": [
      "[1] \"Delta is .14 SD, so MDE is .14*54 = 8\"\n"
     ]
    }
   ],
   "source": [
    "power.t.test(n=800, delta=NULL, sd=1 , power=.8, sig.level=.05)\n",
    "print(\"Delta is .14 SD, so MDE is .14*54 = 8\")"
   ]
  },
  {
   "cell_type": "markdown",
   "id": "4b4a5f7e",
   "metadata": {},
   "source": [
    "**Q10. What sample size would have been required to achieve an MDE of \\\\$1 in revenue per prospective customer? Round to nearest whole number.**"
   ]
  },
  {
   "cell_type": "code",
   "execution_count": 27,
   "id": "16c0c22a",
   "metadata": {},
   "outputs": [
    {
     "data": {
      "text/plain": [
       "\n",
       "     Two-sample t test power calculation \n",
       "\n",
       "              n = 45778.19\n",
       "          delta = 0.018518\n",
       "             sd = 1\n",
       "      sig.level = 0.05\n",
       "          power = 0.8\n",
       "    alternative = two.sided\n",
       "\n",
       "NOTE: n is number in *each* group\n"
      ]
     },
     "metadata": {},
     "output_type": "display_data"
    },
    {
     "name": "stdout",
     "output_type": "stream",
     "text": [
      "[1] \"Requires 45778 samples\"\n"
     ]
    }
   ],
   "source": [
    "power.t.test(n=NULL, delta=.018518, sd=1 , power=.8, sig.level=.05)\n",
    "print(\"Requires 45778 samples\")"
   ]
  },
  {
   "cell_type": "markdown",
   "id": "b87497bb",
   "metadata": {},
   "source": [
    "**Q11. ZipRecruiter ultimately decided to change their price from \\\\$99 to \\\\$249 based on the experiment. Test whether the difference in `revenue` for `price` = \\\\$249 and `price` = \\\\$399 is statistically significant. What is the p-value associated with this test? Round to two decimal places.**"
   ]
  },
  {
   "cell_type": "code",
   "execution_count": 32,
   "id": "6b087acf",
   "metadata": {},
   "outputs": [
    {
     "data": {
      "text/plain": [
       "\n",
       "\tTwo Sample t-test\n",
       "\n",
       "data:  sample1$revenue and sample2$revenue\n",
       "t = -0.27405, df = 1472, p-value = 0.7841\n",
       "alternative hypothesis: true difference in means is not equal to 0\n",
       "95 percent confidence interval:\n",
       " -12.833044   9.686781\n",
       "sample estimates:\n",
       "mean of x mean of y \n",
       " 42.33333  43.90646 \n"
      ]
     },
     "metadata": {},
     "output_type": "display_data"
    },
    {
     "name": "stdout",
     "output_type": "stream",
     "text": [
      "[1] \"P-valye is .7841\"\n"
     ]
    }
   ],
   "source": [
    "\n",
    "sample1 <- ZipRecruiter %>%\n",
    "    filter(price == \"249\")\n",
    "\n",
    "\n",
    "sample2 <- ZipRecruiter %>%\n",
    "    filter(price == \"399\")\n",
    "\n",
    "\n",
    "t.test(sample1$revenue,sample2$revenue, var.equal = TRUE)\n",
    "print(\"P-value is .7841\")\n",
    "\n"
   ]
  }
 ],
 "metadata": {
  "kernelspec": {
   "display_name": "R",
   "language": "R",
   "name": "ir"
  },
  "language_info": {
   "codemirror_mode": "r",
   "file_extension": ".r",
   "mimetype": "text/x-r-source",
   "name": "R",
   "pygments_lexer": "r",
   "version": "4.2.1"
  }
 },
 "nbformat": 4,
 "nbformat_minor": 5
}
