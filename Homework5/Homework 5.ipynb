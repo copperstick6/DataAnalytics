{
 "cells": [
  {
   "cell_type": "markdown",
   "id": "c401f511",
   "metadata": {},
   "source": [
    "# Homework 5\n",
    "\n",
    "**Complete the coding questions in this notebook, and use your results to answer *Lab Homework 5* on bCourses**\n",
    "\n",
    "For this homework we will be using the data: \"Ziprecruiter.csv\"\n",
    "\n",
    "**Bold text is the actual Homework Quiz question.**\n",
    "\n",
    "----"
   ]
  },
  {
   "cell_type": "code",
   "execution_count": 80,
   "id": "808764d5",
   "metadata": {},
   "outputs": [],
   "source": [
    "# Load required packages\n",
    "\n",
    "library(dplyr)\n",
    "library(purrr)\n",
    "library(ggplot2)\n"
   ]
  },
  {
   "cell_type": "markdown",
   "id": "0b7cfe39",
   "metadata": {},
   "source": [
    "Load in the data."
   ]
  },
  {
   "cell_type": "code",
   "execution_count": 81,
   "id": "e8eafae1",
   "metadata": {},
   "outputs": [
    {
     "data": {
      "text/html": [
       "<table class=\"dataframe\">\n",
       "<caption>A data.frame: 6 × 3</caption>\n",
       "<thead>\n",
       "\t<tr><th></th><th scope=col>price</th><th scope=col>signup</th><th scope=col>revenue</th></tr>\n",
       "\t<tr><th></th><th scope=col>&lt;int&gt;</th><th scope=col>&lt;int&gt;</th><th scope=col>&lt;int&gt;</th></tr>\n",
       "</thead>\n",
       "<tbody>\n",
       "\t<tr><th scope=row>1</th><td> 39</td><td>1</td><td>39</td></tr>\n",
       "\t<tr><th scope=row>2</th><td>159</td><td>0</td><td> 0</td></tr>\n",
       "\t<tr><th scope=row>3</th><td>299</td><td>0</td><td> 0</td></tr>\n",
       "\t<tr><th scope=row>4</th><td> 79</td><td>0</td><td> 0</td></tr>\n",
       "\t<tr><th scope=row>5</th><td> 99</td><td>0</td><td> 0</td></tr>\n",
       "\t<tr><th scope=row>6</th><td> 79</td><td>0</td><td> 0</td></tr>\n",
       "</tbody>\n",
       "</table>\n"
      ],
      "text/latex": [
       "A data.frame: 6 × 3\n",
       "\\begin{tabular}{r|lll}\n",
       "  & price & signup & revenue\\\\\n",
       "  & <int> & <int> & <int>\\\\\n",
       "\\hline\n",
       "\t1 &  39 & 1 & 39\\\\\n",
       "\t2 & 159 & 0 &  0\\\\\n",
       "\t3 & 299 & 0 &  0\\\\\n",
       "\t4 &  79 & 0 &  0\\\\\n",
       "\t5 &  99 & 0 &  0\\\\\n",
       "\t6 &  79 & 0 &  0\\\\\n",
       "\\end{tabular}\n"
      ],
      "text/markdown": [
       "\n",
       "A data.frame: 6 × 3\n",
       "\n",
       "| <!--/--> | price &lt;int&gt; | signup &lt;int&gt; | revenue &lt;int&gt; |\n",
       "|---|---|---|---|\n",
       "| 1 |  39 | 1 | 39 |\n",
       "| 2 | 159 | 0 |  0 |\n",
       "| 3 | 299 | 0 |  0 |\n",
       "| 4 |  79 | 0 |  0 |\n",
       "| 5 |  99 | 0 |  0 |\n",
       "| 6 |  79 | 0 |  0 |\n",
       "\n"
      ],
      "text/plain": [
       "  price signup revenue\n",
       "1  39   1      39     \n",
       "2 159   0       0     \n",
       "3 299   0       0     \n",
       "4  79   0       0     \n",
       "5  99   0       0     \n",
       "6  79   0       0     "
      ]
     },
     "metadata": {},
     "output_type": "display_data"
    }
   ],
   "source": [
    "# Load the data\n",
    "\n",
    "ZipRecruiter <- read.csv(\"Ziprecruiter.csv\")\n",
    "\n",
    "head(ZipRecruiter)"
   ]
  },
  {
   "cell_type": "markdown",
   "id": "585de657",
   "metadata": {},
   "source": [
    "We will consider what would have happened if we had chosen an alternative price of \\\\$159 rather than \\\\$249 in our hypothetical, smaller scale experiment.\n",
    "\n",
    "**Q1. In the original experiment, what is standard deviation of `revenue` when the price is \\\\$99 or \\\\$159? Round to the nearest whole dollar.**"
   ]
  },
  {
   "cell_type": "code",
   "execution_count": 82,
   "id": "afefede8",
   "metadata": {},
   "outputs": [
    {
     "data": {
      "text/html": [
       "<table class=\"dataframe\">\n",
       "<caption>A data.frame: 1 × 1</caption>\n",
       "<thead>\n",
       "\t<tr><th scope=col>SD</th></tr>\n",
       "\t<tr><th scope=col>&lt;dbl&gt;</th></tr>\n",
       "</thead>\n",
       "<tbody>\n",
       "\t<tr><td>53.93609</td></tr>\n",
       "</tbody>\n",
       "</table>\n"
      ],
      "text/latex": [
       "A data.frame: 1 × 1\n",
       "\\begin{tabular}{l}\n",
       " SD\\\\\n",
       " <dbl>\\\\\n",
       "\\hline\n",
       "\t 53.93609\\\\\n",
       "\\end{tabular}\n"
      ],
      "text/markdown": [
       "\n",
       "A data.frame: 1 × 1\n",
       "\n",
       "| SD &lt;dbl&gt; |\n",
       "|---|\n",
       "| 53.93609 |\n",
       "\n"
      ],
      "text/plain": [
       "  SD      \n",
       "1 53.93609"
      ]
     },
     "metadata": {},
     "output_type": "display_data"
    },
    {
     "name": "stdout",
     "output_type": "stream",
     "text": [
      "[1] \"STDEV of revenue is $54\"\n"
     ]
    }
   ],
   "source": [
    "ZipRecruiter %>%\n",
    "    filter(price == \"99\" | price == \"159\") %>%\n",
    "    summarize(\"SD\" = sd(revenue))\n",
    "\n",
    "print(\"STDEV of revenue is $54\")\n"
   ]
  },
  {
   "cell_type": "markdown",
   "id": "31502241",
   "metadata": {},
   "source": [
    "**Q2. In the original experiment, what is effect size on revenue for a price of \\\\$159? Measure the effect size in DOLLARS, and round to the nearest whole dollar.**"
   ]
  },
  {
   "cell_type": "code",
   "execution_count": 83,
   "id": "f2fbf9a7",
   "metadata": {},
   "outputs": [
    {
     "data": {
      "text/plain": [
       "\n",
       "Call:\n",
       "lm(formula = revenue ~ relevel(as.factor(price), ref = \"99\"), \n",
       "    data = ZipRecruiter)\n",
       "\n",
       "Residuals:\n",
       "   Min     1Q Median     3Q    Max \n",
       "-43.91 -35.81 -22.92  -6.84 355.09 \n",
       "\n",
       "Coefficients:\n",
       "                                         Estimate Std. Error t value Pr(>|t|)\n",
       "(Intercept)                               23.7600     2.4196   9.820  < 2e-16\n",
       "relevel(as.factor(price), ref = \"99\")19  -16.9162     3.4283  -4.934 8.21e-07\n",
       "relevel(as.factor(price), ref = \"99\")39  -11.2877     3.4081  -3.312 0.000930\n",
       "relevel(as.factor(price), ref = \"99\")59   -7.8382     3.4293  -2.286 0.022303\n",
       "relevel(as.factor(price), ref = \"99\")79   -0.8425     3.3730  -0.250 0.802757\n",
       "relevel(as.factor(price), ref = \"99\")159   8.0400     3.4607   2.323 0.020193\n",
       "relevel(as.factor(price), ref = \"99\")199  12.0498     3.4459   3.497 0.000473\n",
       "relevel(as.factor(price), ref = \"99\")249  18.5733     3.4820   5.334 9.87e-08\n",
       "relevel(as.factor(price), ref = \"99\")299  15.0865     3.4642   4.355 1.35e-05\n",
       "relevel(as.factor(price), ref = \"99\")399  20.1465     3.5066   5.745 9.52e-09\n",
       "                                            \n",
       "(Intercept)                              ***\n",
       "relevel(as.factor(price), ref = \"99\")19  ***\n",
       "relevel(as.factor(price), ref = \"99\")39  ***\n",
       "relevel(as.factor(price), ref = \"99\")59  *  \n",
       "relevel(as.factor(price), ref = \"99\")79     \n",
       "relevel(as.factor(price), ref = \"99\")159 *  \n",
       "relevel(as.factor(price), ref = \"99\")199 ***\n",
       "relevel(as.factor(price), ref = \"99\")249 ***\n",
       "relevel(as.factor(price), ref = \"99\")299 ***\n",
       "relevel(as.factor(price), ref = \"99\")399 ***\n",
       "---\n",
       "Signif. codes:  0 ‘***’ 0.001 ‘**’ 0.01 ‘*’ 0.05 ‘.’ 0.1 ‘ ’ 1\n",
       "\n",
       "Residual standard error: 68.44 on 7817 degrees of freedom\n",
       "Multiple R-squared:  0.03128,\tAdjusted R-squared:  0.03017 \n",
       "F-statistic: 28.05 on 9 and 7817 DF,  p-value: < 2.2e-16\n"
      ]
     },
     "metadata": {},
     "output_type": "display_data"
    },
    {
     "name": "stdout",
     "output_type": "stream",
     "text": [
      "[1] \"Effect size is 8.04/53.93 = .149\"\n"
     ]
    }
   ],
   "source": [
    "model = lm(revenue ~relevel(as.factor(price), ref =\"99\"), data = ZipRecruiter)\n",
    "summary(model)\n",
    "\n",
    "print(\"Effect size is 8.04/53.93 = .149\")"
   ]
  },
  {
   "cell_type": "markdown",
   "id": "b07fc63c",
   "metadata": {},
   "source": [
    "**Q3. Consider a smaller scale experiment as we did in Lab 5, where we only include prices of \\\\$99 and \\\\$159 and include 120 customers per price rather than 800. For this experiment, what is the power associated with the effect size you reported in Q2? As in lab, use a significance level of 0.05, remember to convert the effect size into standard deviations, and round power to two decimal places.**"
   ]
  },
  {
   "cell_type": "code",
   "execution_count": 84,
   "id": "a7f91455",
   "metadata": {},
   "outputs": [
    {
     "data": {
      "text/plain": [
       "\n",
       "Call:\n",
       "lm(formula = sample$revenue ~ sample$price)\n",
       "\n",
       "Residuals:\n",
       "   Min     1Q Median     3Q    Max \n",
       "-26.73 -26.73 -21.27 -21.27 132.26 \n",
       "\n",
       "Coefficients:\n",
       "             Estimate Std. Error t value Pr(>|t|)\n",
       "(Intercept)  12.26078   14.56981   0.842    0.401\n",
       "sample$price  0.09103    0.11085   0.821    0.412\n",
       "\n",
       "Residual standard error: 50.84 on 232 degrees of freedom\n",
       "Multiple R-squared:  0.002898,\tAdjusted R-squared:  -0.001399 \n",
       "F-statistic: 0.6744 on 1 and 232 DF,  p-value: 0.4124\n"
      ]
     },
     "metadata": {},
     "output_type": "display_data"
    },
    {
     "data": {
      "text/plain": [
       "\n",
       "     Two-sample t test power calculation \n",
       "\n",
       "              n = 120\n",
       "          delta = 0.149\n",
       "             sd = 1\n",
       "      sig.level = 0.05\n",
       "          power = 0.2088354\n",
       "    alternative = two.sided\n",
       "\n",
       "NOTE: n is number in *each* group\n"
      ]
     },
     "metadata": {},
     "output_type": "display_data"
    },
    {
     "name": "stdout",
     "output_type": "stream",
     "text": [
      "[1] \"Power is ~.21\"\n"
     ]
    }
   ],
   "source": [
    "#what are results using 15% sample?\n",
    "sample <- ZipRecruiter %>%\n",
    "    filter(price == \"99\" | price == \"159\")%>%\n",
    "    slice_sample(prop = 0.15, replace = FALSE)\n",
    "\n",
    "#re-estimate regression using sample\n",
    "sample_model <-lm(sample$revenue ~ sample$price)\n",
    "\n",
    "summary(sample_model)\n",
    "\n",
    "power.t.test(n=120, delta=.149, sd=1 , sig.level=.05)\n",
    "print(\"Power is ~.21\")"
   ]
  },
  {
   "cell_type": "markdown",
   "id": "87a988fe",
   "metadata": {},
   "source": [
    "**Q4. Since our hypothetical experiment is underpowered, we are likely to:**\n",
    "\n",
    "(a) Get a false positive (i.e., make a Type I error), that is, to conclude that there is an effect when there actually isn't an effect. \n",
    "\n",
    "(b) Get a false positive (i.e., make a Type I error), that is, to conclude that there is no effect when there actually is an effect. \n",
    "\n",
    "(c) Get a false negative (i.e., make a Type II error), that is, to conclude that there is no effect when there actually is an effect. \n",
    "\n",
    "(d) Get a false negative (i.e., make a Type II error), that is, to conclude that there is an effect when there actually isn't an effect."
   ]
  },
  {
   "cell_type": "code",
   "execution_count": 85,
   "id": "9646fb9b",
   "metadata": {},
   "outputs": [
    {
     "name": "stdout",
     "output_type": "stream",
     "text": [
      "[1] \"C\"\n"
     ]
    }
   ],
   "source": [
    "print(\"C\")"
   ]
  },
  {
   "cell_type": "markdown",
   "id": "f51746ea",
   "metadata": {},
   "source": [
    "**Q5. What significance level would we need for our hypothetical experiment to have power of 0.8? Round to two decimal places.**"
   ]
  },
  {
   "cell_type": "code",
   "execution_count": 86,
   "id": "b45cef83",
   "metadata": {},
   "outputs": [
    {
     "data": {
      "text/plain": [
       "\n",
       "     Two-sample t test power calculation \n",
       "\n",
       "              n = 120\n",
       "          delta = 0.149\n",
       "             sd = 1\n",
       "      sig.level = 0.7547593\n",
       "          power = 0.8\n",
       "    alternative = two.sided\n",
       "\n",
       "NOTE: n is number in *each* group\n"
      ]
     },
     "metadata": {},
     "output_type": "display_data"
    },
    {
     "name": "stdout",
     "output_type": "stream",
     "text": [
      "[1] \"Significance level is .75 or 75%\"\n"
     ]
    }
   ],
   "source": [
    "power.t.test(n=120, delta=.149, sd=1 , power=.8, sig.level=NULL)\n",
    "print(\"Significance level is .75 or 75%\")"
   ]
  },
  {
   "cell_type": "markdown",
   "id": "4e20cc08",
   "metadata": {},
   "source": [
    "**Q6. What sample size per price would we need for our hypothetical experiment to have power of 0.8? Use a significance level of 0.05 and round to the nearest whole number.**"
   ]
  },
  {
   "cell_type": "code",
   "execution_count": 87,
   "id": "171e0d4f",
   "metadata": {},
   "outputs": [
    {
     "data": {
      "text/plain": [
       "\n",
       "     Two-sample t test power calculation \n",
       "\n",
       "              n = 708.0361\n",
       "          delta = 0.149\n",
       "             sd = 1\n",
       "      sig.level = 0.05\n",
       "          power = 0.8\n",
       "    alternative = two.sided\n",
       "\n",
       "NOTE: n is number in *each* group\n"
      ]
     },
     "metadata": {},
     "output_type": "display_data"
    },
    {
     "name": "stdout",
     "output_type": "stream",
     "text": [
      "[1] \"Need 708 samples\"\n"
     ]
    }
   ],
   "source": [
    "power.t.test(n=NULL, delta=.149, sd=1 , power=.8, sig.level=.05)\n",
    "print(\"Need 708 samples\")"
   ]
  },
  {
   "cell_type": "markdown",
   "id": "7324c2b5",
   "metadata": {},
   "source": [
    "**Q7. Suppose that, when evaluating the experiment using a regression, we include baseline customer-level control variables that reduce the residual standard deviation of `revenue` by 50%. Now what sample size per price would we need for our hypothetical experiment to have power of 0.8?**"
   ]
  },
  {
   "cell_type": "code",
   "execution_count": 88,
   "id": "dfc7a4ab",
   "metadata": {},
   "outputs": [
    {
     "data": {
      "text/plain": [
       "\n",
       "     Two-sample t test power calculation \n",
       "\n",
       "              n = 177.7341\n",
       "          delta = 0.298\n",
       "             sd = 1\n",
       "      sig.level = 0.05\n",
       "          power = 0.8\n",
       "    alternative = two.sided\n",
       "\n",
       "NOTE: n is number in *each* group\n"
      ]
     },
     "metadata": {},
     "output_type": "display_data"
    },
    {
     "name": "stdout",
     "output_type": "stream",
     "text": [
      "[1] \"Need 178 samples\"\n"
     ]
    }
   ],
   "source": [
    "power.t.test(n=NULL, delta=.298, sd=1 , power=.8, sig.level=.05)\n",
    "print(\"Need 178 samples\")"
   ]
  },
  {
   "cell_type": "markdown",
   "id": "ca01ad24",
   "metadata": {},
   "source": [
    "Now let's return to analyzing the original ZipRecruiter experiment (rather than our hypothetical, smaller scale experiment.)\n",
    "\n",
    "**Q8. What is the standard deviation of `revenue`, including all prices? Round to the nearest whole dollar.**"
   ]
  },
  {
   "cell_type": "code",
   "execution_count": 89,
   "id": "9edb9a70",
   "metadata": {},
   "outputs": [
    {
     "data": {
      "text/html": [
       "69.4921935507504"
      ],
      "text/latex": [
       "69.4921935507504"
      ],
      "text/markdown": [
       "69.4921935507504"
      ],
      "text/plain": [
       "[1] 69.49219"
      ]
     },
     "metadata": {},
     "output_type": "display_data"
    },
    {
     "name": "stdout",
     "output_type": "stream",
     "text": [
      "[1] \"$69\"\n"
     ]
    }
   ],
   "source": [
    "sd(ZipRecruiter$revenue)\n",
    "print(\"$69\")"
   ]
  },
  {
   "cell_type": "markdown",
   "id": "a095aa41",
   "metadata": {},
   "source": [
    "**Q9. What is the MDE of the original experiment for any given price? Report the MDE in DOLLARS, and round to the nearest whole dollar.**"
   ]
  },
  {
   "cell_type": "code",
   "execution_count": 90,
   "id": "2f01baa6",
   "metadata": {},
   "outputs": [
    {
     "data": {
      "text/plain": [
       "\n",
       "     Two-sample t test power calculation \n",
       "\n",
       "              n = 800\n",
       "          delta = 0.14019\n",
       "             sd = 1\n",
       "      sig.level = 0.05\n",
       "          power = 0.8\n",
       "    alternative = two.sided\n",
       "\n",
       "NOTE: n is number in *each* group\n"
      ]
     },
     "metadata": {},
     "output_type": "display_data"
    },
    {
     "name": "stdout",
     "output_type": "stream",
     "text": [
      "[1] \"Delta is .14 SD, so MDE is .14*69 = 10\"\n"
     ]
    }
   ],
   "source": [
    "power.t.test(n=800, delta=NULL, sd=1 , power=.8, sig.level=.05)\n",
    "print(\"Delta is .14 SD, so MDE is .14*69 = 10\")"
   ]
  },
  {
   "cell_type": "markdown",
   "id": "4b4a5f7e",
   "metadata": {},
   "source": [
    "**Q10. What sample size would have been required to achieve an MDE of \\\\$1 in revenue per prospective customer? Round to nearest whole number.**"
   ]
  },
  {
   "cell_type": "code",
   "execution_count": 91,
   "id": "16c0c22a",
   "metadata": {},
   "outputs": [
    {
     "data": {
      "text/plain": [
       "\n",
       "     Two-sample t test power calculation \n",
       "\n",
       "              n = 75809.14\n",
       "          delta = 0.01439\n",
       "             sd = 1\n",
       "      sig.level = 0.05\n",
       "          power = 0.8\n",
       "    alternative = two.sided\n",
       "\n",
       "NOTE: n is number in *each* group\n"
      ]
     },
     "metadata": {},
     "output_type": "display_data"
    },
    {
     "name": "stdout",
     "output_type": "stream",
     "text": [
      "[1] \"Requires 75809 samples\"\n"
     ]
    }
   ],
   "source": [
    "power.t.test(n=NULL, delta=.01439, sd=1 , power=.8, sig.level=.05)\n",
    "print(\"Requires 75809 samples\")"
   ]
  },
  {
   "cell_type": "markdown",
   "id": "b87497bb",
   "metadata": {},
   "source": [
    "**Q11. ZipRecruiter ultimately decided to change their price from \\\\$99 to \\\\$249 based on the experiment. Test whether the difference in `revenue` for `price` = \\\\$249 and `price` = \\\\$399 is statistically significant. What is the p-value associated with this test? Round to two decimal places.**"
   ]
  },
  {
   "cell_type": "code",
   "execution_count": 92,
   "id": "6b087acf",
   "metadata": {},
   "outputs": [
    {
     "data": {
      "text/plain": [
       "\n",
       "\tTwo Sample t-test\n",
       "\n",
       "data:  sample1$revenue and sample2$revenue\n",
       "t = -0.27405, df = 1472, p-value = 0.7841\n",
       "alternative hypothesis: true difference in means is not equal to 0\n",
       "95 percent confidence interval:\n",
       " -12.833044   9.686781\n",
       "sample estimates:\n",
       "mean of x mean of y \n",
       " 42.33333  43.90646 \n"
      ]
     },
     "metadata": {},
     "output_type": "display_data"
    },
    {
     "name": "stdout",
     "output_type": "stream",
     "text": [
      "[1] \"P-value is .7841\"\n"
     ]
    }
   ],
   "source": [
    "\n",
    "sample1 <- ZipRecruiter %>%\n",
    "    filter(price == \"249\")\n",
    "\n",
    "\n",
    "sample2 <- ZipRecruiter %>%\n",
    "    filter(price == \"399\")\n",
    "\n",
    "\n",
    "t.test(sample1$revenue,sample2$revenue, var.equal = TRUE)\n",
    "print(\"P-value is .7841\")\n",
    "\n"
   ]
  }
 ],
 "metadata": {
  "kernelspec": {
   "display_name": "R",
   "language": "R",
   "name": "ir"
  },
  "language_info": {
   "codemirror_mode": "r",
   "file_extension": ".r",
   "mimetype": "text/x-r-source",
   "name": "R",
   "pygments_lexer": "r",
   "version": "4.2.1"
  }
 },
 "nbformat": 4,
 "nbformat_minor": 5
}
